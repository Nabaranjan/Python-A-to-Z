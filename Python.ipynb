{
  "nbformat": 4,
  "nbformat_minor": 0,
  "metadata": {
    "colab": {
      "provenance": [],
      "authorship_tag": "ABX9TyOMqVx7nSHHUe1uxFc+ofL2",
      "include_colab_link": true
    },
    "kernelspec": {
      "name": "python3",
      "display_name": "Python 3"
    },
    "language_info": {
      "name": "python"
    }
  },
  "cells": [
    {
      "cell_type": "markdown",
      "metadata": {
        "id": "view-in-github",
        "colab_type": "text"
      },
      "source": [
        "<a href=\"https://colab.research.google.com/github/Nabaranjan/Python-A-to-Z/blob/main/Python.ipynb\" target=\"_parent\"><img src=\"https://colab.research.google.com/assets/colab-badge.svg\" alt=\"Open In Colab\"/></a>"
      ]
    },
    {
      "cell_type": "code",
      "execution_count": null,
      "metadata": {
        "colab": {
          "base_uri": "https://localhost:8080/"
        },
        "id": "2CIDWCCz6-Tm",
        "outputId": "aea3756c-e528-4f79-f79e-21b70161e126"
      },
      "outputs": [
        {
          "output_type": "stream",
          "name": "stdout",
          "text": [
            "15\n"
          ]
        }
      ],
      "source": [
        "#Multiple statements on a single line\n",
        "x=5;y=10;z=x+y\n",
        "print(z)"
      ]
    },
    {
      "cell_type": "code",
      "source": [
        "# Understand semantics in Python\n",
        "age = 32\n",
        "name = \"Nabaranjan\"\n",
        "\n",
        "type(age)\n"
      ],
      "metadata": {
        "colab": {
          "base_uri": "https://localhost:8080/"
        },
        "id": "tBTVYQFQ564H",
        "outputId": "414d495f-5fd2-45de-f3d9-e6658af92491"
      },
      "execution_count": null,
      "outputs": [
        {
          "output_type": "execute_result",
          "data": {
            "text/plain": [
              "int"
            ]
          },
          "metadata": {},
          "execution_count": 7
        }
      ]
    },
    {
      "cell_type": "code",
      "source": [
        "# Type Inference\n",
        "\n",
        "variable=10\n",
        "print(type(variable))"
      ],
      "metadata": {
        "colab": {
          "base_uri": "https://localhost:8080/"
        },
        "id": "8fWO1UAA6S9D",
        "outputId": "ce74f955-69cb-4918-a906-52b30a1982f5"
      },
      "execution_count": null,
      "outputs": [
        {
          "output_type": "stream",
          "name": "stdout",
          "text": [
            "<class 'int'>\n"
          ]
        }
      ]
    },
    {
      "cell_type": "code",
      "source": [
        "age=32\n",
        "if age>30:\n",
        "  print(age)"
      ],
      "metadata": {
        "colab": {
          "base_uri": "https://localhost:8080/"
        },
        "id": "q9XI8dvJ7c0s",
        "outputId": "8d191b71-ad52-4cc5-f370-90e072d5c3a1"
      },
      "execution_count": null,
      "outputs": [
        {
          "output_type": "stream",
          "name": "stdout",
          "text": [
            "32\n"
          ]
        }
      ]
    },
    {
      "cell_type": "code",
      "source": [
        "# Declaring and Assigning Variable\n",
        "\n",
        "age = 32\n",
        "height = 6.1\n",
        "name = \"Nabaranjn\"\n",
        "is_student = True\n",
        "\n",
        "#Printing Variable\n",
        "\n",
        "print(\"age:\",age)\n",
        "print(\"Height:\",height)\n",
        "print(\"Name:\",name)"
      ],
      "metadata": {
        "colab": {
          "base_uri": "https://localhost:8080/"
        },
        "id": "R5Ocwf4d6962",
        "outputId": "bf73432a-d5b0-4784-b1fc-a94dbb9e0760"
      },
      "execution_count": null,
      "outputs": [
        {
          "output_type": "stream",
          "name": "stdout",
          "text": [
            "age: 32\n",
            "Height: 6.1\n",
            "Name: Nabaranjn\n"
          ]
        }
      ]
    },
    {
      "cell_type": "code",
      "source": [
        "##input\n",
        "\n",
        "age = input(\"what is the age\")\n",
        "print(age,type(age))"
      ],
      "metadata": {
        "colab": {
          "base_uri": "https://localhost:8080/"
        },
        "id": "1tK2XUKQ-MbB",
        "outputId": "c358dabd-2206-44ce-c10c-c4492c3403a3"
      },
      "execution_count": null,
      "outputs": [
        {
          "output_type": "stream",
          "name": "stdout",
          "text": [
            "what is the age26\n",
            "26 <class 'str'>\n"
          ]
        }
      ]
    },
    {
      "cell_type": "markdown",
      "source": [
        "# Data Types"
      ],
      "metadata": {
        "id": "XcbYhlkxFCc8"
      }
    },
    {
      "cell_type": "code",
      "source": [
        "# Integer Example\n",
        "\n",
        "age = 35\n",
        "type(age)"
      ],
      "metadata": {
        "colab": {
          "base_uri": "https://localhost:8080/"
        },
        "id": "-2kwAdHJFBS3",
        "outputId": "465104ae-d3e7-40ec-cec3-ff08423cd1e1"
      },
      "execution_count": null,
      "outputs": [
        {
          "output_type": "execute_result",
          "data": {
            "text/plain": [
              "int"
            ]
          },
          "metadata": {},
          "execution_count": 16
        }
      ]
    },
    {
      "cell_type": "code",
      "source": [
        "## Floating Point Data types\n",
        "\n",
        "height = 5.22\n",
        "print(height)\n",
        "print(type(height))"
      ],
      "metadata": {
        "colab": {
          "base_uri": "https://localhost:8080/"
        },
        "id": "wJ67DtveFm8L",
        "outputId": "c0db6b35-c540-4a02-c42c-fa4f3e9aa164"
      },
      "execution_count": null,
      "outputs": [
        {
          "output_type": "stream",
          "name": "stdout",
          "text": [
            "5.22\n",
            "<class 'float'>\n"
          ]
        }
      ]
    },
    {
      "cell_type": "code",
      "source": [
        "# String Data types\n",
        "\n",
        "name = \"Nabaranjan\"\n",
        "print(name)\n",
        "print(type(name))"
      ],
      "metadata": {
        "colab": {
          "base_uri": "https://localhost:8080/"
        },
        "id": "-RPmdqkpF_Tf",
        "outputId": "1f3db243-7479-4d7c-b251-1706a41d8d2e"
      },
      "execution_count": null,
      "outputs": [
        {
          "output_type": "stream",
          "name": "stdout",
          "text": [
            "Nabaranjan\n",
            "<class 'str'>\n"
          ]
        }
      ]
    },
    {
      "cell_type": "code",
      "source": [
        "# boolean\n",
        "\n",
        "is_true = True\n",
        "\n",
        "type(is_true)"
      ],
      "metadata": {
        "colab": {
          "base_uri": "https://localhost:8080/"
        },
        "id": "Sh0FWVWMGNoj",
        "outputId": "24591a4b-05c9-4eed-b5b6-a6528969e771"
      },
      "execution_count": null,
      "outputs": [
        {
          "output_type": "execute_result",
          "data": {
            "text/plain": [
              "bool"
            ]
          },
          "metadata": {},
          "execution_count": 19
        }
      ]
    },
    {
      "cell_type": "markdown",
      "source": [
        "Operators"
      ],
      "metadata": {
        "id": "fOfjIXXzNM_4"
      }
    },
    {
      "cell_type": "code",
      "source": [
        "# Arithmetic operation\n",
        "\n",
        "a = 10\n",
        "b = 5\n",
        "\n",
        "add_result = a+b #addition\n",
        "sub_result = a+b #subtraction\n",
        "mult_result = a*b #multiplication\n",
        "div_result = a/b #division\n",
        "floor_div_result = a//b #floor division\n",
        "modulus_result = a%b #modulus division\n",
        "exponent_result = a**b #Exponentiation\n",
        "\n",
        "print(add_result)\n",
        "print(sub_result)\n",
        "print(mult_result)\n",
        "print(div_result)\n",
        "print(floor_div_result)\n",
        "print(modulus_result)\n",
        "print(exponent_result)"
      ],
      "metadata": {
        "colab": {
          "base_uri": "https://localhost:8080/"
        },
        "id": "3EKg_Ss4GYrS",
        "outputId": "b1e00c39-a5aa-4ac2-e043-b72c24b6bd86"
      },
      "execution_count": null,
      "outputs": [
        {
          "output_type": "stream",
          "name": "stdout",
          "text": [
            "15\n",
            "15\n",
            "50\n",
            "2.0\n",
            "2\n",
            "0\n",
            "100000\n"
          ]
        }
      ]
    },
    {
      "cell_type": "code",
      "source": [
        "## Comparison Operators\n",
        "## ==\n",
        "\n",
        "a = 10\n",
        "b = 10\n",
        "\n",
        "a==b"
      ],
      "metadata": {
        "colab": {
          "base_uri": "https://localhost:8080/"
        },
        "id": "1rWniWKESZrK",
        "outputId": "f7f99112-22ee-48cc-e282-7b39445c5b06"
      },
      "execution_count": null,
      "outputs": [
        {
          "output_type": "execute_result",
          "data": {
            "text/plain": [
              "True"
            ]
          },
          "metadata": {},
          "execution_count": 21
        }
      ]
    },
    {
      "cell_type": "code",
      "source": [
        "str1 = \"Nabaranjan\"\n",
        "str2 = \"Nabaranjan\"\n",
        "\n",
        "str1==str2"
      ],
      "metadata": {
        "colab": {
          "base_uri": "https://localhost:8080/"
        },
        "id": "HZIgN5agU6d5",
        "outputId": "ba4ef668-d564-40fb-fcc0-a3c46d76a6b4"
      },
      "execution_count": null,
      "outputs": [
        {
          "output_type": "execute_result",
          "data": {
            "text/plain": [
              "True"
            ]
          },
          "metadata": {},
          "execution_count": 22
        }
      ]
    },
    {
      "cell_type": "code",
      "source": [
        "#greater than\n",
        "\n",
        "num1 = 45\n",
        "num2 = 55\n",
        "\n",
        "num1>num2"
      ],
      "metadata": {
        "colab": {
          "base_uri": "https://localhost:8080/"
        },
        "id": "LOFBvaBsVK8r",
        "outputId": "3fb557e8-479b-40bb-8f9a-d469d6b5ca03"
      },
      "execution_count": null,
      "outputs": [
        {
          "output_type": "execute_result",
          "data": {
            "text/plain": [
              "False"
            ]
          },
          "metadata": {},
          "execution_count": 23
        }
      ]
    },
    {
      "cell_type": "code",
      "source": [
        "## less than\n",
        "\n",
        "print(num1<num2)"
      ],
      "metadata": {
        "colab": {
          "base_uri": "https://localhost:8080/"
        },
        "id": "X6GeLFHvWQl1",
        "outputId": "d76ceaa7-a7da-471e-e488-58db2bffe7f8"
      },
      "execution_count": null,
      "outputs": [
        {
          "output_type": "stream",
          "name": "stdout",
          "text": [
            "True\n"
          ]
        }
      ]
    },
    {
      "cell_type": "code",
      "source": [
        "# greater than or equal to\n",
        "\n",
        "number1 = 45\n",
        "number2 = 45\n",
        "\n",
        "print(number1>=number2)"
      ],
      "metadata": {
        "colab": {
          "base_uri": "https://localhost:8080/"
        },
        "id": "kMdTEdVRWYDG",
        "outputId": "01e898fc-a5af-4f1a-9475-7024e0b18fbe"
      },
      "execution_count": null,
      "outputs": [
        {
          "output_type": "stream",
          "name": "stdout",
          "text": [
            "True\n"
          ]
        }
      ]
    },
    {
      "cell_type": "code",
      "source": [
        "# less than or equal to\n",
        "\n",
        "number1 = 44\n",
        "number2 = 45\n",
        "\n",
        "print(number1<=number2)"
      ],
      "metadata": {
        "colab": {
          "base_uri": "https://localhost:8080/"
        },
        "id": "boZx8PmbWveH",
        "outputId": "2f23a3a2-70ec-42e7-e45f-ff246b0cb2e1"
      },
      "execution_count": null,
      "outputs": [
        {
          "output_type": "stream",
          "name": "stdout",
          "text": [
            "True\n"
          ]
        }
      ]
    },
    {
      "cell_type": "markdown",
      "source": [
        "Logical Operator"
      ],
      "metadata": {
        "id": "Wel5u-fFXKLK"
      }
    },
    {
      "cell_type": "code",
      "source": [
        "## And, Not , OR\n",
        "\n",
        "X = True\n",
        "Y = True\n",
        "\n",
        "result = X and Y\n",
        "print(result)"
      ],
      "metadata": {
        "colab": {
          "base_uri": "https://localhost:8080/"
        },
        "id": "w7XFUJVUXID8",
        "outputId": "aef7c075-b799-4f4c-af65-77ff57000f31"
      },
      "execution_count": null,
      "outputs": [
        {
          "output_type": "stream",
          "name": "stdout",
          "text": [
            "True\n"
          ]
        }
      ]
    },
    {
      "cell_type": "code",
      "source": [
        "# OR\n",
        "\n",
        "X = False\n",
        "Y = True\n",
        "result = X or Y\n",
        "print(result)"
      ],
      "metadata": {
        "colab": {
          "base_uri": "https://localhost:8080/"
        },
        "id": "XD7ToufXXcru",
        "outputId": "09d3e45c-28c7-47c9-d8e6-46cb0908ed5d"
      },
      "execution_count": null,
      "outputs": [
        {
          "output_type": "stream",
          "name": "stdout",
          "text": [
            "True\n"
          ]
        }
      ]
    },
    {
      "cell_type": "code",
      "source": [
        "# Not Operator\n",
        "\n",
        "X = False\n",
        "not X"
      ],
      "metadata": {
        "colab": {
          "base_uri": "https://localhost:8080/"
        },
        "id": "NaE340lAZIBd",
        "outputId": "7a705ab5-744c-43f8-e9e9-f8aec72a6105"
      },
      "execution_count": null,
      "outputs": [
        {
          "output_type": "execute_result",
          "data": {
            "text/plain": [
              "True"
            ]
          },
          "metadata": {},
          "execution_count": 32
        }
      ]
    },
    {
      "cell_type": "code",
      "source": [
        "# If satement\n",
        "\n",
        "age = 20\n",
        "\n",
        "if age >= 18:\n",
        "  print(\"You are allowed to votein the elections\")\n"
      ],
      "metadata": {
        "id": "ameRS-WKznUQ",
        "colab": {
          "base_uri": "https://localhost:8080/"
        },
        "outputId": "7b3ca133-9c26-4687-f7f4-e451ad31a82b"
      },
      "execution_count": null,
      "outputs": [
        {
          "output_type": "stream",
          "name": "stdout",
          "text": [
            "You are allowed to votein the elections\n"
          ]
        }
      ]
    },
    {
      "cell_type": "code",
      "source": [
        "## else\n",
        "\n",
        "age = 16\n",
        "\n",
        "if age >= 18:\n",
        "  print(\"You are eligible for voting\")\n",
        "else:\n",
        "  print(\"You are a minor\")"
      ],
      "metadata": {
        "colab": {
          "base_uri": "https://localhost:8080/"
        },
        "id": "jLGkYcdBxTCg",
        "outputId": "6b4953fb-c1bd-4bb8-b981-a3462f6e3e8f"
      },
      "execution_count": null,
      "outputs": [
        {
          "output_type": "stream",
          "name": "stdout",
          "text": [
            "You are a minor\n"
          ]
        }
      ]
    },
    {
      "cell_type": "code",
      "source": [
        "## elif\n",
        "\n",
        "age = 17\n",
        "if age < 13:\n",
        "  print(\"You are a child\")\n",
        "elif age<18:\n",
        "  print(\"You are a teenager\")\n",
        "else:\n",
        "  print(\"You are an adult\")"
      ],
      "metadata": {
        "colab": {
          "base_uri": "https://localhost:8080/"
        },
        "id": "zdu14qswx0nr",
        "outputId": "225ed3e9-276a-4152-9084-a50a07f63368"
      },
      "execution_count": null,
      "outputs": [
        {
          "output_type": "stream",
          "name": "stdout",
          "text": [
            "You are a teenager\n"
          ]
        }
      ]
    },
    {
      "cell_type": "code",
      "source": [
        "#Nested Condition\n",
        "\n",
        "num = int(input(\"Enter the number\"))\n",
        "\n",
        "if num>0:\n",
        "  print(\"The number is positive\")\n",
        "  if num%2==0:\n",
        "    print(\"The number is even\")\n",
        "  else:\n",
        "    print(\"The number is odd\")\n",
        "\n",
        "else:\n",
        "  print(\"The number is zero or negative\")\n",
        "\n"
      ],
      "metadata": {
        "colab": {
          "base_uri": "https://localhost:8080/"
        },
        "id": "_LuQ6UB1BYfI",
        "outputId": "4db620a6-67ee-4763-f39d-7e508c3ee817"
      },
      "execution_count": null,
      "outputs": [
        {
          "output_type": "stream",
          "name": "stdout",
          "text": [
            "Enter the number3\n",
            "The number is positive\n",
            "The number is odd\n"
          ]
        }
      ]
    },
    {
      "cell_type": "code",
      "source": [
        "# Practical Examples\n",
        "# Determine if a year is a leap year using condition statement\n",
        "\n",
        "\n",
        "year = int(input(\"Enter the year\"))\n",
        "\n",
        "if year%4==0:\n",
        "  if year%100==0:\n",
        "    if year%400==0:\n",
        "      print(year,\"is a leap year\")\n",
        "    else:\n",
        "      print(year,\"is not a leap year\")\n",
        "  else:\n",
        "    print(year,\"is a leap year\")\n",
        "\n",
        "else:\n",
        "  print(year,\"is not a leap year\")"
      ],
      "metadata": {
        "colab": {
          "base_uri": "https://localhost:8080/"
        },
        "id": "FoIG571sEvF3",
        "outputId": "52664947-3092-43c0-ec63-233d5c820c1b"
      },
      "execution_count": null,
      "outputs": [
        {
          "output_type": "stream",
          "name": "stdout",
          "text": [
            "Enter the year2012\n",
            "2012 is a leap year\n"
          ]
        }
      ]
    },
    {
      "cell_type": "code",
      "source": [
        "# for loop\n",
        "\n",
        "range(5)"
      ],
      "metadata": {
        "colab": {
          "base_uri": "https://localhost:8080/"
        },
        "id": "ZTrbAu7aH_AD",
        "outputId": "ab7d8798-4a0e-4564-9fb1-3f0c867320fa"
      },
      "execution_count": null,
      "outputs": [
        {
          "output_type": "execute_result",
          "data": {
            "text/plain": [
              "range(0, 5)"
            ]
          },
          "metadata": {},
          "execution_count": 1
        }
      ]
    },
    {
      "cell_type": "code",
      "source": [
        "for i in range(5):\n",
        "  print(i)"
      ],
      "metadata": {
        "colab": {
          "base_uri": "https://localhost:8080/"
        },
        "id": "BeD4oSMKxgSR",
        "outputId": "d396c363-bd2b-41b5-aa1b-418d092550af"
      },
      "execution_count": null,
      "outputs": [
        {
          "output_type": "stream",
          "name": "stdout",
          "text": [
            "0\n",
            "1\n",
            "2\n",
            "3\n",
            "4\n"
          ]
        }
      ]
    },
    {
      "cell_type": "code",
      "source": [
        "for i in range(10,1,-2):\n",
        "  print(i)"
      ],
      "metadata": {
        "colab": {
          "base_uri": "https://localhost:8080/"
        },
        "id": "3Pgj7AKZxpUg",
        "outputId": "50aa032b-2a35-4775-e550-7a3fc3fb9f4e"
      },
      "execution_count": null,
      "outputs": [
        {
          "output_type": "stream",
          "name": "stdout",
          "text": [
            "10\n",
            "8\n",
            "6\n",
            "4\n",
            "2\n"
          ]
        }
      ]
    },
    {
      "cell_type": "code",
      "source": [
        "#strings\n",
        "\n",
        "str = \"Nabaranjan\"\n",
        "for i in str:\n",
        "  print(i)"
      ],
      "metadata": {
        "colab": {
          "base_uri": "https://localhost:8080/"
        },
        "id": "EVzeVxRfypEO",
        "outputId": "53eeca3d-a624-4dbd-a69e-52d8a2cf3b5f"
      },
      "execution_count": null,
      "outputs": [
        {
          "output_type": "stream",
          "name": "stdout",
          "text": [
            "N\n",
            "a\n",
            "b\n",
            "a\n",
            "r\n",
            "a\n",
            "n\n",
            "j\n",
            "a\n",
            "n\n"
          ]
        }
      ]
    },
    {
      "cell_type": "code",
      "source": [
        "count = 0\n",
        "\n",
        "while count<5:\n",
        "  print(count)\n",
        "  count=count+1"
      ],
      "metadata": {
        "colab": {
          "base_uri": "https://localhost:8080/"
        },
        "id": "g6_HS5oDAfm4",
        "outputId": "eeb574dc-01a4-45f6-8111-15577ed23cc5"
      },
      "execution_count": null,
      "outputs": [
        {
          "output_type": "stream",
          "name": "stdout",
          "text": [
            "0\n",
            "1\n",
            "2\n",
            "3\n",
            "4\n"
          ]
        }
      ]
    },
    {
      "cell_type": "code",
      "source": [
        "couunt = 0\n",
        "\n",
        "while count%2==0:\n",
        "  print(count)\n",
        "  print()"
      ],
      "metadata": {
        "id": "OEZ6zVq6As_I"
      },
      "execution_count": null,
      "outputs": []
    },
    {
      "cell_type": "code",
      "source": [
        "for i in range(10):\n",
        "  if i == 5:\n",
        "    break\n",
        "  print(i)"
      ],
      "metadata": {
        "colab": {
          "base_uri": "https://localhost:8080/"
        },
        "id": "-uuaeLepCIvO",
        "outputId": "4e536dc6-4037-474a-ef9c-ac2371029acf"
      },
      "execution_count": null,
      "outputs": [
        {
          "output_type": "stream",
          "name": "stdout",
          "text": [
            "0\n",
            "1\n",
            "2\n",
            "3\n",
            "4\n"
          ]
        }
      ]
    },
    {
      "cell_type": "code",
      "source": [
        "for i in range(10):\n",
        "  if i%2==0:\n",
        "    continue\n",
        "  print(i)\n"
      ],
      "metadata": {
        "colab": {
          "base_uri": "https://localhost:8080/"
        },
        "id": "aR9whgK7FTDs",
        "outputId": "4dfd0932-3715-4f74-9a8b-b5254e83cccb"
      },
      "execution_count": null,
      "outputs": [
        {
          "output_type": "stream",
          "name": "stdout",
          "text": [
            "1\n",
            "3\n",
            "5\n",
            "7\n",
            "9\n"
          ]
        }
      ]
    },
    {
      "cell_type": "code",
      "source": [
        "for i in range(5):\n",
        "  if i==3:\n",
        "    pass\n",
        "  print(i)"
      ],
      "metadata": {
        "colab": {
          "base_uri": "https://localhost:8080/"
        },
        "id": "szoc-H-rFfvw",
        "outputId": "8a5c601b-f4a0-4952-c3de-12b45b59875f"
      },
      "execution_count": null,
      "outputs": [
        {
          "output_type": "stream",
          "name": "stdout",
          "text": [
            "0\n",
            "1\n",
            "2\n",
            "3\n",
            "4\n"
          ]
        }
      ]
    },
    {
      "cell_type": "code",
      "source": [
        "for i in range(3):\n",
        "  for j in range(2):\n",
        "    print(f\"i:{i} and j:{j}\")"
      ],
      "metadata": {
        "colab": {
          "base_uri": "https://localhost:8080/"
        },
        "id": "ZsjgxNAcFzsV",
        "outputId": "bdf74091-5d1d-48c5-b345-3c3e109868b1"
      },
      "execution_count": null,
      "outputs": [
        {
          "output_type": "stream",
          "name": "stdout",
          "text": [
            "i:0 and j:0\n",
            "i:0 and j:1\n",
            "i:1 and j:0\n",
            "i:1 and j:1\n",
            "i:2 and j:0\n",
            "i:2 and j:1\n"
          ]
        }
      ]
    },
    {
      "cell_type": "code",
      "source": [
        "n = 10\n",
        "sum = 0\n",
        "count = 1\n",
        "\n",
        "while count <= n:\n",
        "  sum = sum+count\n",
        "  count = count+1\n",
        "\n",
        "  print(\"sum of first 10 natural number:\",sum)"
      ],
      "metadata": {
        "colab": {
          "base_uri": "https://localhost:8080/"
        },
        "id": "kOlebJK0KE_v",
        "outputId": "90c9ba6b-5324-42f2-ea6a-d9db84d12bbd"
      },
      "execution_count": null,
      "outputs": [
        {
          "output_type": "stream",
          "name": "stdout",
          "text": [
            "sum of first 10 natural number: 1\n",
            "sum of first 10 natural number: 3\n",
            "sum of first 10 natural number: 6\n",
            "sum of first 10 natural number: 10\n",
            "sum of first 10 natural number: 15\n",
            "sum of first 10 natural number: 21\n",
            "sum of first 10 natural number: 28\n",
            "sum of first 10 natural number: 36\n",
            "sum of first 10 natural number: 45\n",
            "sum of first 10 natural number: 55\n"
          ]
        }
      ]
    },
    {
      "cell_type": "code",
      "source": [
        "for num in range(1,101):\n",
        "  if num>1:\n",
        "    for i in range(2,num):\n",
        "      if num%i==0:\n",
        "        break\n",
        "    else:\n",
        "      print(num)\n"
      ],
      "metadata": {
        "colab": {
          "base_uri": "https://localhost:8080/"
        },
        "id": "SfTYCxvjMIwU",
        "outputId": "20c682af-2f09-49f9-f179-a8519d1d5111"
      },
      "execution_count": null,
      "outputs": [
        {
          "output_type": "stream",
          "name": "stdout",
          "text": [
            "2\n",
            "3\n",
            "5\n",
            "7\n",
            "11\n",
            "13\n",
            "17\n",
            "19\n",
            "23\n",
            "29\n",
            "31\n",
            "37\n",
            "41\n",
            "43\n",
            "47\n",
            "53\n",
            "59\n",
            "61\n",
            "67\n",
            "71\n",
            "73\n",
            "79\n",
            "83\n",
            "89\n",
            "97\n"
          ]
        }
      ]
    },
    {
      "cell_type": "code",
      "source": [
        "lst= []\n",
        "print(type(lst))"
      ],
      "metadata": {
        "colab": {
          "base_uri": "https://localhost:8080/"
        },
        "id": "zeBQ2rFHOFUv",
        "outputId": "31bc702e-8df2-4537-bd7b-ac3188ab732e"
      },
      "execution_count": null,
      "outputs": [
        {
          "output_type": "stream",
          "name": "stdout",
          "text": [
            "<class 'list'>\n"
          ]
        }
      ]
    },
    {
      "cell_type": "code",
      "source": [
        "# Tuple\n",
        "\n",
        "empty_tuple=()\n",
        "print(empty_tuple)\n",
        "print(type(empty_tuple))"
      ],
      "metadata": {
        "id": "3Q1ORRCHVfqm",
        "colab": {
          "base_uri": "https://localhost:8080/"
        },
        "outputId": "b5d2bcfd-bcca-4cfe-9136-3b94364eb03d"
      },
      "execution_count": null,
      "outputs": [
        {
          "output_type": "stream",
          "name": "stdout",
          "text": [
            "()\n",
            "<class 'tuple'>\n"
          ]
        }
      ]
    },
    {
      "cell_type": "code",
      "source": [
        "number = tuple([1,2,3,4])\n",
        "9print(number)"
      ],
      "metadata": {
        "colab": {
          "base_uri": "https://localhost:8080/"
        },
        "id": "V-xeHh0s3LFQ",
        "outputId": "da95e00d-a237-4853-f860-1aae17a5a070"
      },
      "execution_count": null,
      "outputs": [
        {
          "output_type": "stream",
          "name": "stdout",
          "text": [
            "(1, 2, 3, 4)\n"
          ]
        }
      ]
    },
    {
      "cell_type": "code",
      "source": [
        "mixed_tuple = (1,\"Hello World\",3.14,True)\n",
        "print(mixed_tuple)"
      ],
      "metadata": {
        "colab": {
          "base_uri": "https://localhost:8080/"
        },
        "id": "ZNDB8o-F3bUQ",
        "outputId": "d957c186-dcf7-4342-bb10-29e3a428fded"
      },
      "execution_count": null,
      "outputs": [
        {
          "output_type": "stream",
          "name": "stdout",
          "text": [
            "(1, 'Hello World', 3.14, True)\n"
          ]
        }
      ]
    },
    {
      "cell_type": "code",
      "source": [
        "mixed_tuple * 3"
      ],
      "metadata": {
        "colab": {
          "base_uri": "https://localhost:8080/"
        },
        "id": "-K7qMVoG4r0I",
        "outputId": "a9970122-0500-4e3d-e1e5-3c09dcd4f39e"
      },
      "execution_count": null,
      "outputs": [
        {
          "output_type": "execute_result",
          "data": {
            "text/plain": [
              "(1,\n",
              " 'Hello World',\n",
              " 3.14,\n",
              " True,\n",
              " 1,\n",
              " 'Hello World',\n",
              " 3.14,\n",
              " True,\n",
              " 1,\n",
              " 'Hello World',\n",
              " 3.14,\n",
              " True)"
            ]
          },
          "metadata": {},
          "execution_count": 5
        }
      ]
    },
    {
      "cell_type": "code",
      "source": [
        "\"\"\"This function converts temperature between Celsius and Fahrenheit\"\"\"\n",
        "def convert_temperature(temp,unit):\n",
        "  if unit == 'C':\n",
        "    return temp * 9/5 + 32 ##Celsius to Fahrenheit\n",
        "  elif unit == \"F\":\n",
        "    return (temp-32)*5/9 ## Fahrenheit to celsius\n",
        "  else:\n",
        "    return None\n",
        "\n",
        "print(convert_temperature(25,'C'))\n",
        "print(convert_temperature(77,'F'))\n"
      ],
      "metadata": {
        "id": "dsI8kJ9Z44-Z",
        "colab": {
          "base_uri": "https://localhost:8080/"
        },
        "outputId": "fc7cfb96-40a2-45a6-dd34-2901f2acd213"
      },
      "execution_count": null,
      "outputs": [
        {
          "output_type": "stream",
          "name": "stdout",
          "text": [
            "77.0\n",
            "25.0\n"
          ]
        }
      ]
    },
    {
      "cell_type": "code",
      "source": [
        "def is_strong_password(password):\n",
        "  if len(password)<8:\n",
        "    return False\n",
        "  if not any(char.isdigit() for char in password):\n",
        "    return False\n",
        "  if not any(char.islower() for char in password):\n",
        "    return False\n",
        "  if not any(char.isupper() for char in password):\n",
        "    return False\n",
        "  if not any(char in '!@#$%^&*()_+' for char in password):\n",
        "    return False\n",
        "  return True\n",
        "\n",
        "\n",
        "## calling the function\n",
        "\n",
        "print(is_strong_password(\"WeakPwd\"))\n",
        "print(is_strong_password(\"StrongPwd\"))"
      ],
      "metadata": {
        "colab": {
          "base_uri": "https://localhost:8080/"
        },
        "id": "_qw-521wKPBT",
        "outputId": "fc397508-4db8-4394-db99-f146d72a876b"
      },
      "execution_count": null,
      "outputs": [
        {
          "output_type": "stream",
          "name": "stdout",
          "text": [
            "False\n",
            "False\n"
          ]
        }
      ]
    },
    {
      "cell_type": "code",
      "source": [
        "def even(num):\n",
        "  if num%2==0:\n",
        "    return True\n",
        "\n",
        "\n",
        "even(24)"
      ],
      "metadata": {
        "colab": {
          "base_uri": "https://localhost:8080/"
        },
        "id": "iqfE26T3Mk6l",
        "outputId": "9a88f3c1-5371-4eca-e147-03a44336c504"
      },
      "execution_count": null,
      "outputs": [
        {
          "output_type": "execute_result",
          "data": {
            "text/plain": [
              "True"
            ]
          },
          "metadata": {},
          "execution_count": 11
        }
      ]
    },
    {
      "cell_type": "code",
      "source": [
        "# Lambda Function with map\n",
        "\n",
        "numbers = [1,2,3,4,5,6,7,8]\n",
        "list(map(lambda x:x*x,numbers))"
      ],
      "metadata": {
        "colab": {
          "base_uri": "https://localhost:8080/"
        },
        "id": "AxueWxM_DZ9U",
        "outputId": "be5355ba-95bb-4aa3-e30a-f4a6873b527e"
      },
      "execution_count": 1,
      "outputs": [
        {
          "output_type": "execute_result",
          "data": {
            "text/plain": [
              "[1, 4, 9, 16, 25, 36, 49, 64]"
            ]
          },
          "metadata": {},
          "execution_count": 1
        }
      ]
    },
    {
      "cell_type": "code",
      "source": [
        "numbers1 = [1,2,3]\n",
        "numbers2 = [4,5,6]\n",
        "\n",
        "added_numbers = (map(lambda x,y:x+y, numbers1,numbers2))\n",
        "print(added_numbers)"
      ],
      "metadata": {
        "colab": {
          "base_uri": "https://localhost:8080/"
        },
        "id": "E7a2R-Y3Lolj",
        "outputId": "0f2152b0-a2be-405b-ebfe-49e1924df672"
      },
      "execution_count": 2,
      "outputs": [
        {
          "output_type": "stream",
          "name": "stdout",
          "text": [
            "<map object at 0x7f59e63d15a0>\n"
          ]
        }
      ]
    },
    {
      "cell_type": "code",
      "source": [],
      "metadata": {
        "id": "bYUB2u4_smog"
      },
      "execution_count": null,
      "outputs": []
    }
  ]
}
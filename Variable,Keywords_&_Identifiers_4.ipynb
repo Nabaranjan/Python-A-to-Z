{
  "nbformat": 4,
  "nbformat_minor": 0,
  "metadata": {
    "colab": {
      "provenance": [],
      "toc_visible": true,
      "authorship_tag": "ABX9TyN5uXxtIieClAB0JCEsfPBB",
      "include_colab_link": true
    },
    "kernelspec": {
      "name": "python3",
      "display_name": "Python 3"
    },
    "language_info": {
      "name": "python"
    }
  },
  "cells": [
    {
      "cell_type": "markdown",
      "metadata": {
        "id": "view-in-github",
        "colab_type": "text"
      },
      "source": [
        "<a href=\"https://colab.research.google.com/github/Nabaranjan/Python-A-to-Z/blob/main/Variable%2CKeywords_%26_Identifiers_4.ipynb\" target=\"_parent\"><img src=\"https://colab.research.google.com/assets/colab-badge.svg\" alt=\"Open In Colab\"/></a>"
      ]
    },
    {
      "cell_type": "markdown",
      "source": [
        "#Variables"
      ],
      "metadata": {
        "id": "gCrjn2LQptk6"
      }
    },
    {
      "cell_type": "code",
      "execution_count": 1,
      "metadata": {
        "colab": {
          "base_uri": "https://localhost:8080/"
        },
        "id": "alqZyFYqoYQu",
        "outputId": "e0e70cf1-f1cb-4b27-d64b-978f2f58797f"
      },
      "outputs": [
        {
          "metadata": {
            "tags": null
          },
          "name": "stdout",
          "output_type": "stream",
          "text": [
            "2\n"
          ]
        }
      ],
      "source": [
        "var = 2\n",
        "print(var)"
      ]
    },
    {
      "cell_type": "code",
      "source": [
        "var = 6.5\n",
        "print(var)"
      ],
      "metadata": {
        "colab": {
          "base_uri": "https://localhost:8080/"
        },
        "id": "v0aqB_R7rSJM",
        "outputId": "a33c1656-8d21-47a1-adde-b460bce1daa2"
      },
      "execution_count": 2,
      "outputs": [
        {
          "output_type": "stream",
          "name": "stdout",
          "text": [
            "6.5\n"
          ]
        }
      ]
    },
    {
      "cell_type": "code",
      "source": [
        "a = 5\n",
        "b = 10\n",
        "print(a+b)"
      ],
      "metadata": {
        "colab": {
          "base_uri": "https://localhost:8080/"
        },
        "id": "yDciG65V_YDg",
        "outputId": "3d11f78e-d7e7-403a-8292-badbe1eac91e"
      },
      "execution_count": 3,
      "outputs": [
        {
          "output_type": "stream",
          "name": "stdout",
          "text": [
            "15\n"
          ]
        }
      ]
    },
    {
      "cell_type": "code",
      "source": [
        "# Dynamic Typing(#in dynamic typing we do not need declare data types)\n",
        "a = 19 #int\n",
        "print(a)\n",
        "# Static Typing (#in static typing we should decalre data types)\n",
        "int a = 7  #c, c++ , java"
      ],
      "metadata": {
        "collapsed": true,
        "id": "zTo1P2ed_kil"
      },
      "execution_count": null,
      "outputs": []
    },
    {
      "cell_type": "code",
      "source": [
        "# Dynamic Binding\n",
        "a = 10\n",
        "print(a)\n",
        "a = \"Nabaranjan\"\n",
        "print(a)\n",
        "\n",
        "#Static Binding\n",
        "int a = 7\n",
        "str a = 'Nabaranjan'"
      ],
      "metadata": {
        "id": "l6Xg9YPcArdZ"
      },
      "execution_count": null,
      "outputs": []
    },
    {
      "cell_type": "code",
      "source": [
        "a = 1\n",
        "b = 2\n",
        "c = 3\n",
        "print(a,b,c)"
      ],
      "metadata": {
        "colab": {
          "base_uri": "https://localhost:8080/"
        },
        "id": "bE9fMkh7UEno",
        "outputId": "40c97633-4fd3-4317-b81e-b8015731b95a"
      },
      "execution_count": 8,
      "outputs": [
        {
          "output_type": "stream",
          "name": "stdout",
          "text": [
            "1 2 3\n"
          ]
        }
      ]
    },
    {
      "cell_type": "markdown",
      "source": [
        "#Keyword\n",
        "\n",
        "\n",
        "\n",
        "\n",
        "\n",
        "1.   False  \n",
        "1.   None\n",
        "2.   True\n",
        "2.   and\n",
        "1.   as\n",
        "2.   assert\n",
        "1.   async\n",
        "2.   await\n",
        "1.   break\n",
        "1.   class\n",
        "1.   continue\n",
        "2.   def\n",
        "2.   del\n",
        "2.   elif\n",
        "1.  else\n",
        "2.  except\n",
        "1.   finally\n",
        "2.   for\n",
        "1.   from\n",
        "2.   global\n",
        "1.   if\n",
        "2.   in\n",
        "1.   is\n",
        "2.   lambda\n",
        "1.   nonlocal\n",
        "2.   not\n",
        "1.   or\n",
        "2.   pass\n",
        "1.   raise\n",
        "2.   return\n",
        "1.   try\n",
        "2.   while\n",
        "1.   with\n",
        "2.  yield\n",
        "1.   import\n",
        "\n",
        "\n",
        "\n",
        "\n",
        "\n",
        "\n",
        "\n",
        "\n",
        "\n",
        "\n",
        "\n",
        "\n",
        "\n",
        "\n",
        "\n",
        "\n",
        "\n",
        "\n",
        "\n",
        "\n",
        "\n",
        "\n",
        "\n",
        "\n",
        "\n",
        "\n"
      ],
      "metadata": {
        "id": "eye15xDkVE1i"
      }
    },
    {
      "cell_type": "markdown",
      "source": [
        "#Identifiers"
      ],
      "metadata": {
        "id": "X7YaikGYa0dN"
      }
    },
    {
      "cell_type": "code",
      "source": [
        "name = \"Nabaranjan\"\n",
        "a = a\n",
        "#you can not start with digit\n",
        "1name = \"Nabaranjan\" #(can not use number and special char)"
      ],
      "metadata": {
        "id": "HjXIo9NUU99i"
      },
      "execution_count": null,
      "outputs": []
    }
  ]
}
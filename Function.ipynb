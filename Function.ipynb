{
  "nbformat": 4,
  "nbformat_minor": 0,
  "metadata": {
    "colab": {
      "provenance": [],
      "authorship_tag": "ABX9TyO2/KX74ytKFcZbJ3HtpmYk",
      "include_colab_link": true
    },
    "kernelspec": {
      "name": "python3",
      "display_name": "Python 3"
    },
    "language_info": {
      "name": "python"
    }
  },
  "cells": [
    {
      "cell_type": "markdown",
      "metadata": {
        "id": "view-in-github",
        "colab_type": "text"
      },
      "source": [
        "<a href=\"https://colab.research.google.com/github/Nabaranjan/Python-A-to-Z/blob/main/Function.ipynb\" target=\"_parent\"><img src=\"https://colab.research.google.com/assets/colab-badge.svg\" alt=\"Open In Colab\"/></a>"
      ]
    },
    {
      "cell_type": "code",
      "execution_count": null,
      "metadata": {
        "id": "x4f1D38Gdfrk"
      },
      "outputs": [],
      "source": [
        "#Creating Function\n",
        "\n",
        "print(\"Hello Nabaranjan, welcome to Python\")"
      ]
    },
    {
      "cell_type": "code",
      "source": [
        "def greet(name):\n",
        "  output = f\"Hello {name}, welcome to Python\"\n",
        "  return output"
      ],
      "metadata": {
        "id": "wUJ-fSyagzQl"
      },
      "execution_count": null,
      "outputs": []
    },
    {
      "cell_type": "code",
      "source": [
        "greet(\"Nabaranjan\")"
      ],
      "metadata": {
        "colab": {
          "base_uri": "https://localhost:8080/",
          "height": 35
        },
        "id": "G1bPxBxjhcRO",
        "outputId": "753d610d-d395-4d43-ecb6-9bfa222bb911"
      },
      "execution_count": null,
      "outputs": [
        {
          "output_type": "execute_result",
          "data": {
            "text/plain": [
              "'Hello Nabaranjan, welcome to Python'"
            ],
            "application/vnd.google.colaboratory.intrinsic+json": {
              "type": "string"
            }
          },
          "metadata": {},
          "execution_count": 7
        }
      ]
    },
    {
      "cell_type": "code",
      "source": [
        "def greet():\n",
        "  output = f\"Hello Nabaranjan, welcome to Python\"\n",
        "  return output"
      ],
      "metadata": {
        "id": "ccehVbHciXuM"
      },
      "execution_count": null,
      "outputs": []
    },
    {
      "cell_type": "code",
      "source": [
        "greet()"
      ],
      "metadata": {
        "colab": {
          "base_uri": "https://localhost:8080/",
          "height": 35
        },
        "id": "gj7lD-Maid_w",
        "outputId": "ad267942-12fe-409d-f93e-d0777e7fd1a0"
      },
      "execution_count": null,
      "outputs": [
        {
          "output_type": "execute_result",
          "data": {
            "text/plain": [
              "'Hello Nabaranjan, welcome to Python'"
            ],
            "application/vnd.google.colaboratory.intrinsic+json": {
              "type": "string"
            }
          },
          "metadata": {},
          "execution_count": 9
        }
      ]
    },
    {
      "cell_type": "code",
      "source": [
        "res = greet()\n",
        "print(res)"
      ],
      "metadata": {
        "colab": {
          "base_uri": "https://localhost:8080/"
        },
        "id": "wF0FPwvni6WC",
        "outputId": "71954a72-5a1b-42f5-a46a-1343a5e487ee"
      },
      "execution_count": null,
      "outputs": [
        {
          "output_type": "stream",
          "name": "stdout",
          "text": [
            "Hello Nabaranjan, welcome to Python\n"
          ]
        }
      ]
    },
    {
      "cell_type": "code",
      "source": [
        "def greet(name):\n",
        "  output = f\"Hello {name}, welcome to Python\"\n",
        "  return output\n",
        "\n",
        "  names = [\"Nabaranjan\",\"Guddu\",\"Guddy\"]\n",
        "\n",
        "for name in names:\n",
        "  res = greet(name)\n",
        "  print(res)"
      ],
      "metadata": {
        "colab": {
          "base_uri": "https://localhost:8080/"
        },
        "id": "9yeMxynPjYEX",
        "outputId": "163c20dd-8432-4006-bbc1-a8ef975de6f7"
      },
      "execution_count": null,
      "outputs": [
        {
          "output_type": "stream",
          "name": "stdout",
          "text": [
            "Hello Nabaranjan, welcome to Python\n",
            "Hello Guddu, welcome to Python\n",
            "Hello Guddy, welcome to Python\n"
          ]
        }
      ]
    },
    {
      "cell_type": "code",
      "source": [
        "def odd_even(num):\n",
        "  if num % 2 == 0:\n",
        "    return \"Even number\"\n",
        "  else:\n",
        "    return \"Odd Number\"\n"
      ],
      "metadata": {
        "id": "PqPRiYnvmRPP"
      },
      "execution_count": null,
      "outputs": []
    },
    {
      "cell_type": "code",
      "source": [
        "res = odd_even(3)\n",
        "print(res)"
      ],
      "metadata": {
        "colab": {
          "base_uri": "https://localhost:8080/"
        },
        "id": "er_rCAw62371",
        "outputId": "0aff22af-cf19-4613-8d08-4b54e363ad61"
      },
      "execution_count": null,
      "outputs": [
        {
          "output_type": "stream",
          "name": "stdout",
          "text": [
            "Odd Number\n"
          ]
        }
      ]
    },
    {
      "cell_type": "code",
      "source": [
        "for i in range(1,11):\n",
        "  res = odd_even(i)\n",
        "  print(i,res)"
      ],
      "metadata": {
        "colab": {
          "base_uri": "https://localhost:8080/"
        },
        "id": "Irb7B2jB3AsZ",
        "outputId": "df8011d7-06e2-458a-9226-28077cbb55cf"
      },
      "execution_count": null,
      "outputs": [
        {
          "output_type": "stream",
          "name": "stdout",
          "text": [
            "1 Odd Number\n",
            "2 Even number\n",
            "3 Odd Number\n",
            "4 Even number\n",
            "5 Odd Number\n",
            "6 Even number\n",
            "7 Odd Number\n",
            "8 Even number\n",
            "9 Odd Number\n",
            "10 Even number\n"
          ]
        }
      ]
    },
    {
      "cell_type": "markdown",
      "source": [
        "#Docstring in Function"
      ],
      "metadata": {
        "id": "4W0RQbnX3kKL"
      }
    },
    {
      "cell_type": "code",
      "source": [
        "def odd_even(num):\n",
        "\n",
        "  \"\"\"\n",
        "  This function checks if a given number is odd or even.\n",
        "  input: any valid number/integer\n",
        "  output: odd/even\n",
        "  created Date: 20-10-2024\n",
        "  \"\"\"\n",
        "  if num % 2 == 0:\n",
        "    return \"Even number\"\n",
        "  else:\n",
        "    return \"Odd Number\"\n",
        "\n"
      ],
      "metadata": {
        "id": "IdILSyD13fCD"
      },
      "execution_count": null,
      "outputs": []
    },
    {
      "cell_type": "code",
      "source": [
        "print(max.__doc__)"
      ],
      "metadata": {
        "colab": {
          "base_uri": "https://localhost:8080/"
        },
        "id": "jZHWjN5Z8AqE",
        "outputId": "981ae4ca-d812-40a8-9f87-ff45bffbb9c8"
      },
      "execution_count": null,
      "outputs": [
        {
          "output_type": "stream",
          "name": "stdout",
          "text": [
            "max(iterable, *[, default=obj, key=func]) -> value\n",
            "max(arg1, arg2, *args, *[, key=func]) -> value\n",
            "\n",
            "With a single iterable argument, return its biggest item. The\n",
            "default keyword-only argument specifies an object to return if\n",
            "the provided iterable is empty.\n",
            "With two or more arguments, return the largest argument.\n"
          ]
        }
      ]
    },
    {
      "cell_type": "markdown",
      "source": [
        "# Parameters VS Arguments"
      ],
      "metadata": {
        "id": "zxyytlLCKGGY"
      }
    },
    {
      "cell_type": "code",
      "source": [
        "def power(a = 2,b = 3):\n",
        "  return a**b"
      ],
      "metadata": {
        "id": "j-QXdOD6-MW4"
      },
      "execution_count": null,
      "outputs": []
    },
    {
      "cell_type": "code",
      "source": [
        "power(2,5)"
      ],
      "metadata": {
        "colab": {
          "base_uri": "https://localhost:8080/"
        },
        "id": "AtSstSYKK6jF",
        "outputId": "583deec0-ca61-4ab7-ef98-17c66fa67eb8"
      },
      "execution_count": null,
      "outputs": [
        {
          "output_type": "execute_result",
          "data": {
            "text/plain": [
              "32"
            ]
          },
          "metadata": {},
          "execution_count": 25
        }
      ]
    },
    {
      "cell_type": "markdown",
      "source": [
        "# Args and kwargs function"
      ],
      "metadata": {
        "id": "-O02lWfqN9sm"
      }
    },
    {
      "cell_type": "code",
      "source": [
        "#args\n",
        "def multiply(a,b,c):\n",
        "  return a * b * c\n",
        "multiply(2,3,4)\n"
      ],
      "metadata": {
        "colab": {
          "base_uri": "https://localhost:8080/"
        },
        "id": "DL3gwjeOODpL",
        "outputId": "1b54158b-c5d7-47fc-b167-9e8a4f9fb355"
      },
      "execution_count": null,
      "outputs": [
        {
          "output_type": "execute_result",
          "data": {
            "text/plain": [
              "24"
            ]
          },
          "metadata": {},
          "execution_count": 29
        }
      ]
    },
    {
      "cell_type": "code",
      "source": [
        "def multiply(*args):\n",
        "  print(args)\n"
      ],
      "metadata": {
        "id": "rxX0utdXOaMJ"
      },
      "execution_count": null,
      "outputs": []
    },
    {
      "cell_type": "code",
      "source": [
        "multiply(1,2,3,3,4,5,6)"
      ],
      "metadata": {
        "colab": {
          "base_uri": "https://localhost:8080/"
        },
        "id": "VTJG7CUWPffa",
        "outputId": "01f76dd7-4b3d-4aff-fb3d-e78da76936dd"
      },
      "execution_count": null,
      "outputs": [
        {
          "output_type": "stream",
          "name": "stdout",
          "text": [
            "(1, 2, 3, 3, 4, 5, 6)\n"
          ]
        }
      ]
    },
    {
      "cell_type": "code",
      "source": [
        "def multiply(*args):\n",
        "  product = 1\n",
        "  for i in args:\n",
        "    product = product * i\n",
        "\n",
        "  return product\n",
        "\n",
        "res = multiply(1,2,3,4,5,6,5,6,7)\n",
        "print(res)"
      ],
      "metadata": {
        "colab": {
          "base_uri": "https://localhost:8080/"
        },
        "id": "358mlonUPqeV",
        "outputId": "26781d3d-4636-4667-b18f-7d6e64ca699b"
      },
      "execution_count": null,
      "outputs": [
        {
          "output_type": "stream",
          "name": "stdout",
          "text": [
            "151200\n"
          ]
        }
      ]
    },
    {
      "cell_type": "code",
      "source": [
        "# Kwargs\n",
        "def display(**kwargs):\n",
        "  print(kwargs)"
      ],
      "metadata": {
        "id": "5XXxVHXOSRtn"
      },
      "execution_count": null,
      "outputs": []
    },
    {
      "cell_type": "code",
      "source": [
        "display(india=\"Delhi\",odisha=\"Bhubaneswar\",Bihar=\"patna\")"
      ],
      "metadata": {
        "id": "7JtMczi9VIjw"
      },
      "execution_count": null,
      "outputs": []
    },
    {
      "cell_type": "code",
      "source": [
        "# Nested Function\n",
        "\n",
        "def f():\n",
        "  def g():\n",
        "    print(\"Inside function g\")\n",
        "    f()\n",
        "\n",
        "  g()\n",
        "   print(\"Inside function f\")\n"
      ],
      "metadata": {
        "id": "XPISXRqkbdTi"
      },
      "execution_count": null,
      "outputs": []
    },
    {
      "cell_type": "code",
      "source": [
        "f()"
      ],
      "metadata": {
        "id": "agOcmCIdgA4f"
      },
      "execution_count": null,
      "outputs": []
    },
    {
      "cell_type": "code",
      "source": [
        "# type and id\n",
        "\n",
        "def square(num):\n",
        "  return num**2\n",
        "\n",
        "  print(type(square))\n",
        "  print(id(square))"
      ],
      "metadata": {
        "id": "Is4VfwmHjTGD"
      },
      "execution_count": 4,
      "outputs": []
    },
    {
      "cell_type": "code",
      "source": [],
      "metadata": {
        "id": "Fk5If4m7nmVN"
      },
      "execution_count": null,
      "outputs": []
    }
  ]
}
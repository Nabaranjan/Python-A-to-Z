{
  "nbformat": 4,
  "nbformat_minor": 0,
  "metadata": {
    "colab": {
      "provenance": [],
      "authorship_tag": "ABX9TyNZ/taDn1bcjigiqND4aCM+",
      "include_colab_link": true
    },
    "kernelspec": {
      "name": "python3",
      "display_name": "Python 3"
    },
    "language_info": {
      "name": "python"
    }
  },
  "cells": [
    {
      "cell_type": "markdown",
      "metadata": {
        "id": "view-in-github",
        "colab_type": "text"
      },
      "source": [
        "<a href=\"https://colab.research.google.com/github/Nabaranjan/Python-A-to-Z/blob/main/Loops.ipynb\" target=\"_parent\"><img src=\"https://colab.research.google.com/assets/colab-badge.svg\" alt=\"Open In Colab\"/></a>"
      ]
    },
    {
      "cell_type": "markdown",
      "source": [
        "\n",
        "#Loops"
      ],
      "metadata": {
        "id": "LSADpsURpEC_"
      }
    },
    {
      "cell_type": "code",
      "execution_count": 1,
      "metadata": {
        "colab": {
          "base_uri": "https://localhost:8080/"
        },
        "id": "R4UdtNE0oNDl",
        "outputId": "375fc454-b7f0-4f95-f490-bf0350d78441"
      },
      "outputs": [
        {
          "output_type": "stream",
          "name": "stdout",
          "text": [
            "Nabaranjan\n",
            "Nabaranjan\n",
            "Nabaranjan\n",
            "Nabaranjan\n",
            "Nabaranjan\n",
            "Nabaranjan\n",
            "Nabaranjan\n",
            "Nabaranjan\n",
            "Nabaranjan\n"
          ]
        }
      ],
      "source": [
        "#While Loops\n",
        "\n",
        "i = 1\n",
        "\n",
        "while i<10:\n",
        "  print(\"Nabaranjan\")\n",
        "  i += 1"
      ]
    },
    {
      "cell_type": "code",
      "source": [
        "#Program to printmultiplication table\n",
        "\n",
        "number = int(input(\"Enter thenumber\"))\n",
        "\n",
        "i = 0\n",
        "\n",
        "while i<11:\n",
        "  print(i)\n",
        "  i += 1\n"
      ],
      "metadata": {
        "colab": {
          "base_uri": "https://localhost:8080/"
        },
        "id": "fiqsSG-ZtWuP",
        "outputId": "ddc50556-b74b-4fca-9154-1af93a3e3b61"
      },
      "execution_count": 2,
      "outputs": [
        {
          "output_type": "stream",
          "name": "stdout",
          "text": [
            "Enter thenumber4\n",
            "0\n",
            "1\n",
            "2\n",
            "3\n",
            "4\n",
            "5\n",
            "6\n",
            "7\n",
            "8\n",
            "9\n",
            "10\n"
          ]
        }
      ]
    },
    {
      "cell_type": "code",
      "source": [
        "number = int(input(\"Enter thenumber\"))\n",
        "\n",
        "i = 1\n",
        "\n",
        "while i<11:\n",
        "  print(i*number)\n",
        "  i += 1"
      ],
      "metadata": {
        "colab": {
          "base_uri": "https://localhost:8080/"
        },
        "id": "hYG2zFalwf1q",
        "outputId": "b2653aa8-52f6-46cb-d6b9-5fde171150e8"
      },
      "execution_count": 3,
      "outputs": [
        {
          "output_type": "stream",
          "name": "stdout",
          "text": [
            "Enter thenumber2\n",
            "2\n",
            "4\n",
            "6\n",
            "8\n",
            "10\n",
            "12\n",
            "14\n",
            "16\n",
            "18\n",
            "20\n"
          ]
        }
      ]
    },
    {
      "cell_type": "code",
      "source": [
        "number = int(input(\"Enter thenumber\"))\n",
        "\n",
        "i = 1\n",
        "\n",
        "while i<11:\n",
        "  print(number, \"*\", i, \"=\", number*i)\n",
        "  i += 1"
      ],
      "metadata": {
        "colab": {
          "base_uri": "https://localhost:8080/"
        },
        "id": "noeujmkew2Sz",
        "outputId": "10914236-1bf8-4845-84c3-b30d70e890d7"
      },
      "execution_count": 4,
      "outputs": [
        {
          "output_type": "stream",
          "name": "stdout",
          "text": [
            "Enter thenumber2\n",
            "2 * 1 = 2\n",
            "2 * 2 = 4\n",
            "2 * 3 = 6\n",
            "2 * 4 = 8\n",
            "2 * 5 = 10\n",
            "2 * 6 = 12\n",
            "2 * 7 = 14\n",
            "2 * 8 = 16\n",
            "2 * 9 = 18\n",
            "2 * 10 = 20\n"
          ]
        }
      ]
    },
    {
      "cell_type": "code",
      "source": [
        "# While loop with els\n",
        "\n",
        "x = 1\n",
        "while x<4:\n",
        "  print(x)\n",
        "  x += 1\n",
        "else:\n",
        "  print(\"Program Executed\")"
      ],
      "metadata": {
        "colab": {
          "base_uri": "https://localhost:8080/"
        },
        "id": "aEdAwdlWxVBO",
        "outputId": "79b807cd-4276-40e9-866d-5a7137620863"
      },
      "execution_count": 5,
      "outputs": [
        {
          "output_type": "stream",
          "name": "stdout",
          "text": [
            "1\n",
            "2\n",
            "3\n",
            "Program Executed\n"
          ]
        }
      ]
    },
    {
      "cell_type": "code",
      "source": [],
      "metadata": {
        "id": "E4NhWTJsxU8W"
      },
      "execution_count": null,
      "outputs": []
    }
  ]
}
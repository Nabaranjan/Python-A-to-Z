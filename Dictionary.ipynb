{
  "nbformat": 4,
  "nbformat_minor": 0,
  "metadata": {
    "colab": {
      "provenance": [],
      "authorship_tag": "ABX9TyMh+BIX56c5EZkcBG/dkV10",
      "include_colab_link": true
    },
    "kernelspec": {
      "name": "python3",
      "display_name": "Python 3"
    },
    "language_info": {
      "name": "python"
    }
  },
  "cells": [
    {
      "cell_type": "markdown",
      "metadata": {
        "id": "view-in-github",
        "colab_type": "text"
      },
      "source": [
        "<a href=\"https://colab.research.google.com/github/Nabaranjan/Python-A-to-Z/blob/main/Dictionary.ipynb\" target=\"_parent\"><img src=\"https://colab.research.google.com/assets/colab-badge.svg\" alt=\"Open In Colab\"/></a>"
      ]
    },
    {
      "cell_type": "markdown",
      "source": [
        "# Dictionary in Python\n"
      ],
      "metadata": {
        "id": "1nYp-jbK1IUp"
      }
    },
    {
      "cell_type": "code",
      "execution_count": 1,
      "metadata": {
        "colab": {
          "base_uri": "https://localhost:8080/"
        },
        "id": "U4N5BCUf0-ir",
        "outputId": "8f1978b9-f09d-4b67-e98a-add776874340"
      },
      "outputs": [
        {
          "output_type": "stream",
          "name": "stdout",
          "text": [
            "{}\n",
            "<class 'dict'>\n"
          ]
        }
      ],
      "source": [
        "# empty dictionary\n",
        "\n",
        "d = {}\n",
        "print(d)\n",
        "print(type(d))"
      ]
    },
    {
      "cell_type": "code",
      "source": [
        "# 1D dictionary\n",
        "\n",
        "d1 = {\"name\":\"Nabaranjan\",\"age\":27,\"Gender\":\"Male\"}\n",
        "print(d1)"
      ],
      "metadata": {
        "colab": {
          "base_uri": "https://localhost:8080/"
        },
        "id": "8BOobZTi3VDo",
        "outputId": "783295c6-8e34-4473-a7cd-256f6ce95b91"
      },
      "execution_count": 2,
      "outputs": [
        {
          "output_type": "stream",
          "name": "stdout",
          "text": [
            "{'name': 'Nabaranjan', 'age': 27, 'Gender': 'Male'}\n"
          ]
        }
      ]
    },
    {
      "cell_type": "code",
      "source": [
        "# with mixed keys\n",
        "\n",
        "d2 = {(1,2,3):33,\"name\":\"Nabaranjan\"}\n",
        "\n",
        "print(d2)"
      ],
      "metadata": {
        "colab": {
          "base_uri": "https://localhost:8080/"
        },
        "id": "GFD5sOSM3tLQ",
        "outputId": "1c6f70fd-f2f8-49dd-d0d0-9c2fe48654e8"
      },
      "execution_count": 3,
      "outputs": [
        {
          "output_type": "stream",
          "name": "stdout",
          "text": [
            "{(1, 2, 3): 33, 'name': 'Nabaranjan'}\n"
          ]
        }
      ]
    },
    {
      "cell_type": "code",
      "source": [
        "# 2D Dictionary\n",
        "d3 = {\n",
        "    \"name\": \"Nabaranjan\",\n",
        "    \"college_name\": \"MIT\",\n",
        "    \"Semester\": 6,\n",
        "    \"subject\":{\"DSA\":80, \"Math\":50, \"English\": 70}\n",
        "}\n",
        "\n",
        "print(d3)"
      ],
      "metadata": {
        "colab": {
          "base_uri": "https://localhost:8080/"
        },
        "id": "kzxj4Hy74Dyu",
        "outputId": "65cd8481-f33f-4ec8-8baa-41a5fb824dc8"
      },
      "execution_count": 4,
      "outputs": [
        {
          "output_type": "stream",
          "name": "stdout",
          "text": [
            "{'name': 'Nabaranjan', 'college_name': 'MIT', 'Semester': 6, 'subject': {'DSA': 80, 'Math': 50, 'English': 70}}\n"
          ]
        }
      ]
    },
    {
      "cell_type": "code",
      "source": [
        "# using sequence and dict function\n",
        "\n",
        "d4 = dict([(\"name\",\"Nabaranjan\"),(\"age\",26)])\n",
        "print(d4)"
      ],
      "metadata": {
        "colab": {
          "base_uri": "https://localhost:8080/"
        },
        "id": "7VtS9LlW428E",
        "outputId": "7c83a1cb-d17d-4edf-c8f2-4c7652b77d2a"
      },
      "execution_count": 5,
      "outputs": [
        {
          "output_type": "stream",
          "name": "stdout",
          "text": [
            "{'name': 'Nabaranjan', 'age': 26}\n"
          ]
        }
      ]
    },
    {
      "cell_type": "code",
      "source": [
        "# duplicate keys\n",
        "\n",
        "d5 = {\"name\":\"Nabaranjan\",\"age\":27,\"Gender\":\"Male\",\"name\":\"Nabaranjan\"}\n",
        "print(d5)"
      ],
      "metadata": {
        "colab": {
          "base_uri": "https://localhost:8080/"
        },
        "id": "FnJB96XS5UDS",
        "outputId": "1ee1ba1e-d01a-47ac-ea94-c373a9053b77"
      },
      "execution_count": 6,
      "outputs": [
        {
          "output_type": "stream",
          "name": "stdout",
          "text": [
            "{'name': 'Nabaranjan', 'age': 27, 'Gender': 'Male'}\n"
          ]
        }
      ]
    },
    {
      "cell_type": "code",
      "source": [
        "# Editing Key-Value Pair\n",
        "\n",
        "d1 = {\"name\":\"Nabaranjan\",\"age\":27,\"Gender\":\"Male\"}\n",
        "print(d1)\n"
      ],
      "metadata": {
        "colab": {
          "base_uri": "https://localhost:8080/"
        },
        "id": "c_YCOn4C5msY",
        "outputId": "bddd7f75-af94-46f2-ba26-fcc4e44d80b2"
      },
      "execution_count": 7,
      "outputs": [
        {
          "output_type": "stream",
          "name": "stdout",
          "text": [
            "{'name': 'Nabaranjan', 'age': 27, 'Gender': 'Male'}\n"
          ]
        }
      ]
    },
    {
      "cell_type": "code",
      "source": [
        "d1['name'] = \"Guddu\"\n",
        "\n",
        "print(d1)"
      ],
      "metadata": {
        "colab": {
          "base_uri": "https://localhost:8080/"
        },
        "id": "yq6sXSxOWnpP",
        "outputId": "0b2043d5-0768-40ba-9d47-15822d5716b1"
      },
      "execution_count": 8,
      "outputs": [
        {
          "output_type": "stream",
          "name": "stdout",
          "text": [
            "{'name': 'Guddu', 'age': 27, 'Gender': 'Male'}\n"
          ]
        }
      ]
    },
    {
      "cell_type": "code",
      "source": [
        "# remove key-value pair\n",
        "\n",
        "d1 = {\"name\":\"Nabaranjan\",\"age\":27,\"Gender\":\"Male\"}\n",
        "\n",
        "d1.pop(\"age\")\n",
        "\n",
        "print(d1)"
      ],
      "metadata": {
        "colab": {
          "base_uri": "https://localhost:8080/"
        },
        "id": "70DjBrE5WyqV",
        "outputId": "7fe70620-6228-4da8-d738-e724ec835e5c"
      },
      "execution_count": 9,
      "outputs": [
        {
          "output_type": "stream",
          "name": "stdout",
          "text": [
            "{'name': 'Nabaranjan', 'Gender': 'Male'}\n"
          ]
        }
      ]
    },
    {
      "cell_type": "markdown",
      "source": [
        "# Building a restaurant management system"
      ],
      "metadata": {
        "id": "ZfG3AYYRfkwO"
      }
    },
    {
      "cell_type": "code",
      "source": [
        "menu = {\n",
        "      \"Coffee\": 2,\n",
        "      \"Pasta\": 3,\n",
        "      \"Pizza\": 5,\n",
        "      \"Burger\": 6,\n",
        "       \"Chicken\": 10,\n",
        "}\n",
        "\n",
        "print(\n",
        "    \"\"\"\n",
        "    Welcome to Guddy's restaurant. Please Order Food!\n",
        "\n",
        "    Coffee: $2\n",
        "    Pasta: $3\n",
        "    Pizza: $5\n",
        "    Burger: $6\n",
        "    Chicken: $10\n",
        "    \"\"\"\n",
        ")\n",
        "\n",
        "total_price = 0\n",
        "\n",
        "item1 =(\"Enter the name of the item you want to order:\")\n",
        "\n",
        "if item1 in menu:\n",
        "  total_price += menu[item1]\n",
        "  print(f\"Your ordered {item1}. Your total order is ${total_price}.\")\n",
        "\n",
        "else:\n",
        "  print(\"Invalid item. Please order something from the menu\")\n",
        "\n",
        "\n",
        "another_order = input(\"Do you want to add another item? (Yes/No): \").lower()\n",
        "\n",
        "if another_order == \"yes\":\n",
        "  item2 = input(\"Enter the name of the 2nd item you want to order:\")\n",
        "  if item2 in menu:\n",
        "    total_price += menu[item2]\n",
        "    print(f\"Your ordered {item2}. Your total order is ${total_price}.\")\n",
        "\n",
        "  else:\n",
        "    print(\"Invalid item. Please order something from the menu\")\n",
        "\n"
      ],
      "metadata": {
        "colab": {
          "base_uri": "https://localhost:8080/"
        },
        "id": "RMlPU2c0bwUI",
        "outputId": "2f2ed291-5aee-471b-e0be-8b9b70564293"
      },
      "execution_count": 12,
      "outputs": [
        {
          "name": "stdout",
          "output_type": "stream",
          "text": [
            "\n",
            "    Welcome to Guddy's restaurant. Please Order Food!\n",
            "\n",
            "    Coffee: $2\n",
            "    Pasta: $3\n",
            "    Pizza: $5\n",
            "    Burger: $6\n",
            "    Chicken: $10\n",
            "    \n",
            "Invalid item. Please order something from the menu\n",
            "Do you want to add another item? (Yes/No): Pizza\n"
          ]
        }
      ]
    }
  ]
}
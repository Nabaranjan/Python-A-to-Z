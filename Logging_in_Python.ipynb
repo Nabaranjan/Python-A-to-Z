{
  "nbformat": 4,
  "nbformat_minor": 0,
  "metadata": {
    "colab": {
      "provenance": [],
      "authorship_tag": "ABX9TyMypGlDcU9ZBjHZr6uxuivl",
      "include_colab_link": true
    },
    "kernelspec": {
      "name": "python3",
      "display_name": "Python 3"
    },
    "language_info": {
      "name": "python"
    }
  },
  "cells": [
    {
      "cell_type": "markdown",
      "metadata": {
        "id": "view-in-github",
        "colab_type": "text"
      },
      "source": [
        "<a href=\"https://colab.research.google.com/github/Nabaranjan/Python-A-to-Z/blob/main/Logging_in_Python.ipynb\" target=\"_parent\"><img src=\"https://colab.research.google.com/assets/colab-badge.svg\" alt=\"Open In Colab\"/></a>"
      ]
    },
    {
      "cell_type": "code",
      "execution_count": 1,
      "metadata": {
        "id": "yD3bVpGOh2js"
      },
      "outputs": [],
      "source": [
        "import logging\n",
        "import os\n"
      ]
    },
    {
      "cell_type": "code",
      "source": [
        "LOG_DIR = \"logs\"\n",
        "LOG_FILE_NAME = \"application.log\"\n",
        "\n",
        "os.makedirs(LOG_DIR, exist_ok=True)\n",
        "\n",
        "log_path = os.path.join(LOG_DIR,LOG_FILE_NAME)\n",
        "\n",
        "\n",
        "logging.basicConfig(\n",
        "    filename=log_path,\n",
        "    format = \"[%(asctime)s ] %(name)s - %(levelname)s - %(message)s\",\n",
        "    level= logging.INFO\n",
        ")"
      ],
      "metadata": {
        "id": "O9YmtbPsjOBv"
      },
      "execution_count": 8,
      "outputs": []
    }
  ]
}
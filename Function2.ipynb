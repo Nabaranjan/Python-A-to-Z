{
  "nbformat": 4,
  "nbformat_minor": 0,
  "metadata": {
    "colab": {
      "provenance": [],
      "authorship_tag": "ABX9TyMtYNuibYufyFIQSl3a4sI1",
      "include_colab_link": true
    },
    "kernelspec": {
      "name": "python3",
      "display_name": "Python 3"
    },
    "language_info": {
      "name": "python"
    }
  },
  "cells": [
    {
      "cell_type": "markdown",
      "metadata": {
        "id": "view-in-github",
        "colab_type": "text"
      },
      "source": [
        "<a href=\"https://colab.research.google.com/github/Nabaranjan/Python-A-to-Z/blob/main/Function2.ipynb\" target=\"_parent\"><img src=\"https://colab.research.google.com/assets/colab-badge.svg\" alt=\"Open In Colab\"/></a>"
      ]
    },
    {
      "cell_type": "code",
      "source": [
        "#Map , Filter and reduce"
      ],
      "metadata": {
        "id": "Is4VfwmHjTGD"
      },
      "execution_count": null,
      "outputs": []
    },
    {
      "cell_type": "code",
      "source": [
        "map()"
      ],
      "metadata": {
        "id": "xXhJkelUtkb4"
      },
      "execution_count": null,
      "outputs": []
    },
    {
      "cell_type": "code",
      "source": [
        "a = lambda x: x\n",
        "L = [1,2,3,4,5]\n",
        "\n",
        "map(a,L)"
      ],
      "metadata": {
        "colab": {
          "base_uri": "https://localhost:8080/"
        },
        "id": "pz6gokSwubW7",
        "outputId": "27776768-9d4d-41d6-d79f-09668dc2785c"
      },
      "execution_count": null,
      "outputs": [
        {
          "output_type": "execute_result",
          "data": {
            "text/plain": [
              "<map at 0x7c86c4c97700>"
            ]
          },
          "metadata": {},
          "execution_count": 6
        }
      ]
    },
    {
      "cell_type": "code",
      "source": [
        "list(map(lambda x: x**2,[1,2,3,4,5]))"
      ],
      "metadata": {
        "colab": {
          "base_uri": "https://localhost:8080/"
        },
        "id": "tS8P8qgPumD7",
        "outputId": "80685f99-a20a-4991-852d-e9960211a275"
      },
      "execution_count": null,
      "outputs": [
        {
          "output_type": "execute_result",
          "data": {
            "text/plain": [
              "[1, 4, 9, 16, 25]"
            ]
          },
          "metadata": {},
          "execution_count": 7
        }
      ]
    },
    {
      "cell_type": "code",
      "source": [
        "L = [1,2,3,4,5]\n",
        "list(map(lambda x:'even' if x%2==0 else 'odd', L))\n"
      ],
      "metadata": {
        "colab": {
          "base_uri": "https://localhost:8080/"
        },
        "id": "8ADNcC4Cviqu",
        "outputId": "df4a3732-4bb1-49b7-a86c-74dc7f3a1d96"
      },
      "execution_count": null,
      "outputs": [
        {
          "output_type": "execute_result",
          "data": {
            "text/plain": [
              "['odd', 'even', 'odd', 'even', 'odd']"
            ]
          },
          "metadata": {},
          "execution_count": 9
        }
      ]
    },
    {
      "cell_type": "code",
      "source": [
        "users = [\n",
        "    {\n",
        "    'name':'Guddu',\n",
        "     'age' : 4,\n",
        "      'gender' :'female'\n",
        "    },\n",
        "    {\n",
        "        'name':'Nabaranjan',\n",
        "        'age' : 27,\n",
        "        'gender' :'male'\n",
        "    },\n",
        "    {\n",
        "        'name':'Guddy',\n",
        "        'age' : 27,\n",
        "        'gender' :'female'\n",
        "    }\n",
        "\n",
        "]\n",
        "\n",
        "list(map(lambda users:users['name'],users))"
      ],
      "metadata": {
        "colab": {
          "base_uri": "https://localhost:8080/"
        },
        "id": "GMQKCIJw5ipM",
        "outputId": "47b5c7c4-d060-4b49-c6d3-3e9dd366321c"
      },
      "execution_count": 1,
      "outputs": [
        {
          "output_type": "execute_result",
          "data": {
            "text/plain": [
              "['Guddu', 'Nabaranjan', 'Guddy']"
            ]
          },
          "metadata": {},
          "execution_count": 1
        }
      ]
    },
    {
      "cell_type": "code",
      "source": [
        "# numbers greater than 2\n",
        "\n",
        "L = [1,2,3,4,5]\n",
        "list(filter(lambda x:x>2, L))"
      ],
      "metadata": {
        "colab": {
          "base_uri": "https://localhost:8080/"
        },
        "id": "qsfRCPiO71_x",
        "outputId": "7ca9d5e9-b587-41a7-ac38-29dba0ef22b3"
      },
      "execution_count": 2,
      "outputs": [
        {
          "output_type": "execute_result",
          "data": {
            "text/plain": [
              "[3, 4, 5]"
            ]
          },
          "metadata": {},
          "execution_count": 2
        }
      ]
    },
    {
      "cell_type": "markdown",
      "source": [
        "Reduce"
      ],
      "metadata": {
        "id": "GPmfnxNf8Y7V"
      }
    },
    {
      "cell_type": "code",
      "source": [
        "# sum of all item\n",
        "\n",
        "import functools\n",
        "L = [1,2,3,4,5]\n",
        "functools.reduce(lambda x,y:x+y, L)"
      ],
      "metadata": {
        "colab": {
          "base_uri": "https://localhost:8080/"
        },
        "id": "mrNZ0Sqm8aR2",
        "outputId": "a6aff58f-8ef1-4f18-cb9a-072fe8df0451"
      },
      "execution_count": 4,
      "outputs": [
        {
          "output_type": "execute_result",
          "data": {
            "text/plain": [
              "15"
            ]
          },
          "metadata": {},
          "execution_count": 4
        }
      ]
    },
    {
      "cell_type": "markdown",
      "source": [
        "# Enumerate Function in Python\n"
      ],
      "metadata": {
        "id": "CdFjtcYA-e7t"
      }
    },
    {
      "cell_type": "code",
      "source": [
        "L = [\"Nabaranjan\",\"Guddu\",\"Guudy\",\"Sham\"]\n",
        "\n",
        "for index, name in enumerate(L):\n",
        "  print(index, name)"
      ],
      "metadata": {
        "colab": {
          "base_uri": "https://localhost:8080/"
        },
        "id": "H1d4MypL-eBe",
        "outputId": "f4c35129-49f3-4d8b-c075-87520137f997"
      },
      "execution_count": 6,
      "outputs": [
        {
          "output_type": "stream",
          "name": "stdout",
          "text": [
            "0 Nabaranjan\n",
            "1 Guddu\n",
            "2 Guudy\n",
            "3 Sham\n"
          ]
        }
      ]
    },
    {
      "cell_type": "markdown",
      "source": [
        "# Problem 1\n"
      ],
      "metadata": {
        "id": "X-_x4W0V_bwm"
      }
    },
    {
      "cell_type": "code",
      "source": [
        "def unique_items(L):\n",
        "    results = []\n",
        "    for i in L:\n",
        "        if i not in results:\n",
        "            results.append(i)\n",
        "    return results\n",
        "\n",
        "L = [1, 2, 3, 3, 3, 3, 4, 5]\n",
        "out = unique_items(L)\n",
        "print(out)\n"
      ],
      "metadata": {
        "colab": {
          "base_uri": "https://localhost:8080/"
        },
        "id": "3E_URpgn_mzl",
        "outputId": "88f93103-eda3-492e-809e-d2239f1ec529"
      },
      "execution_count": 12,
      "outputs": [
        {
          "output_type": "stream",
          "name": "stdout",
          "text": [
            "[1, 2, 3, 4, 5]\n"
          ]
        }
      ]
    }
  ]
}
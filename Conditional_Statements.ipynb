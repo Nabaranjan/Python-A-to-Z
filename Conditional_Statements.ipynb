{
  "nbformat": 4,
  "nbformat_minor": 0,
  "metadata": {
    "colab": {
      "provenance": [],
      "authorship_tag": "ABX9TyMKUldV/EnLgpHXDYJ4rWFs",
      "include_colab_link": true
    },
    "kernelspec": {
      "name": "python3",
      "display_name": "Python 3"
    },
    "language_info": {
      "name": "python"
    }
  },
  "cells": [
    {
      "cell_type": "markdown",
      "metadata": {
        "id": "view-in-github",
        "colab_type": "text"
      },
      "source": [
        "<a href=\"https://colab.research.google.com/github/Nabaranjan/Python-A-to-Z/blob/main/Conditional_Statements.ipynb\" target=\"_parent\"><img src=\"https://colab.research.google.com/assets/colab-badge.svg\" alt=\"Open In Colab\"/></a>"
      ]
    },
    {
      "cell_type": "markdown",
      "source": [
        "#if/Else-Confitional Statements"
      ],
      "metadata": {
        "id": "dTGqtaF10zL6"
      }
    },
    {
      "cell_type": "code",
      "execution_count": 5,
      "metadata": {
        "id": "FbK-D2nL0wJi",
        "colab": {
          "base_uri": "https://localhost:8080/"
        },
        "outputId": "5c2b2b0a-7d98-40c9-f01a-b7a0140d9877"
      },
      "outputs": [
        {
          "output_type": "stream",
          "name": "stdout",
          "text": [
            "Enter your email address: xyz@gmail.com\n",
            "Enter your password: Xyz@123\n",
            "Login Successful!\n"
          ]
        }
      ],
      "source": [
        "#If Else\n",
        "\n",
        "# Login Function Demo\n",
        "\n",
        "\"\"\"Actual Credentials\n",
        "   Email: xyz@gmail.com\n",
        "   Password: Xyz@123\n",
        "   \"\"\"\n",
        "\n",
        "email = input(\"Enter your email address: \")\n",
        "password = input(\"Enter your password: \")\n",
        "\n",
        "if email ==\"xyz@gmail.com\" and password == \"Xyz@123\":\n",
        "  print(\"Login Successful!\")\n",
        "else:\n",
        "    print(\"Invalid Credentials!\")\n",
        "\n",
        "\n"
      ]
    },
    {
      "cell_type": "markdown",
      "source": [
        "#Exercise\n"
      ],
      "metadata": {
        "id": "KwmGGkIGhDIj"
      }
    },
    {
      "cell_type": "code",
      "source": [
        "# Find the min of 3 numbers\n",
        "\n",
        "num1 = int(input(\"Enter First number: \"))\n",
        "num2 = int(input(\"Enter second number: \"))\n",
        "num3 = int(input(\"Enter third number: \"))\n",
        "\n",
        "if num1<num2 and num2>num3:\n",
        "  print(\"Minimum number is: \", num1)\n",
        "elif num2<num1 and num2<num3:\n",
        "  print(\"Minimum numberis: \", num2)\n",
        "else:\n",
        "  print(\"Minimum number is: \", num3)"
      ],
      "metadata": {
        "colab": {
          "base_uri": "https://localhost:8080/"
        },
        "id": "At8bMuAeWovk",
        "outputId": "c07dbb9c-5aa0-410c-d2c2-dd2967ecf163"
      },
      "execution_count": 6,
      "outputs": [
        {
          "output_type": "stream",
          "name": "stdout",
          "text": [
            "Enter First number: 1\n",
            "Enter second number: 2\n",
            "Enter third number: 3\n",
            "Minimum number is:  3\n"
          ]
        }
      ]
    },
    {
      "cell_type": "code",
      "source": [
        "# ATM machine Menu\n",
        "\"\"\"\n",
        "ATM Machine Menu\n",
        "\n",
        "1.Pin change\n",
        "2.balance check\n",
        "3.withdraw\n",
        "4.Deposit\n",
        "5.Exit\n",
        "\"\"\"\n",
        "\n",
        "menu = input(\"\"\"\n",
        "Hi there! Welcome to ATM\n",
        "Please choose,\n",
        "\n",
        "1.Enter 1 for Pin change\n",
        "2.Enter 2 for Balance check\n",
        "3.Enter 3 for withdraw\n",
        "4.Enter 4 for Deposit\n",
        "5.Enter 5 for Exit\n",
        "\n",
        "\"\"\")\n",
        "#print(menu)\n",
        "\n",
        "if menu == \"1\":\n",
        "  print(\"Pin change\")\n",
        "elif menu == \"2\":\n",
        "  print(\"Balance check\")\n",
        "elif menu == \"3\":\n",
        "  print(\"Withdraw\")\n",
        "elif menu == \"4\":\n",
        "  print(\"Deposit\")\n",
        "else:\n",
        "  print(\"Exist\")\n"
      ],
      "metadata": {
        "colab": {
          "base_uri": "https://localhost:8080/"
        },
        "id": "2RzT_RS-pfE3",
        "outputId": "4ff7978f-d977-4313-c470-0c13ca58c907"
      },
      "execution_count": 8,
      "outputs": [
        {
          "output_type": "stream",
          "name": "stdout",
          "text": [
            "\n",
            "Hi there! Welcome to ATM\n",
            "Please choose,\n",
            "\n",
            "1.Enter 1 for Pin change\n",
            "2.Enter 2 for Balance check\n",
            "3.Enter 3 for withdraw\n",
            "4.Enter 4 for Deposit\n",
            "5.Enter 5 for Exit\n",
            "\n",
            "1\n",
            "Pin change\n"
          ]
        }
      ]
    }
  ]
}
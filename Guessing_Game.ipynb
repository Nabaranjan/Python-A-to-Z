{
  "nbformat": 4,
  "nbformat_minor": 0,
  "metadata": {
    "colab": {
      "provenance": [],
      "authorship_tag": "ABX9TyNRDqStn0fV98C3tVpOXzKv",
      "include_colab_link": true
    },
    "kernelspec": {
      "name": "python3",
      "display_name": "Python 3"
    },
    "language_info": {
      "name": "python"
    }
  },
  "cells": [
    {
      "cell_type": "markdown",
      "metadata": {
        "id": "view-in-github",
        "colab_type": "text"
      },
      "source": [
        "<a href=\"https://colab.research.google.com/github/Nabaranjan/Python-A-to-Z/blob/main/Guessing_Game.ipynb\" target=\"_parent\"><img src=\"https://colab.research.google.com/assets/colab-badge.svg\" alt=\"Open In Colab\"/></a>"
      ]
    },
    {
      "cell_type": "markdown",
      "source": [
        "# Guessing Game\n",
        "\n",
        "\n",
        "\n",
        "1.   Generate a random number (1-100)\n",
        "2.   Take an input from user\n",
        "1.   Compare / Match that number\n",
        "2.   If correct show result\n",
        "\n",
        "\n",
        "\n"
      ],
      "metadata": {
        "id": "tUKPiDvR1SRb"
      }
    },
    {
      "cell_type": "code",
      "execution_count": null,
      "metadata": {
        "colab": {
          "base_uri": "https://localhost:8080/"
        },
        "collapsed": true,
        "id": "f5wjoK5XyCLs",
        "outputId": "d681d446-0234-4dba-965a-e827932b47d7"
      },
      "outputs": [
        {
          "output_type": "stream",
          "name": "stdout",
          "text": [
            "Enter your guess number: 45\n",
            "Wrong! Please guess higher\n",
            "Enter your guess number: 55\n",
            "Wrong! Please guess higher\n",
            "Enter your guess number: 60\n",
            "Wrong! Please guess higher\n",
            "Enter your guess number: 70\n",
            "Wrong! Please guess higher\n",
            "Enter your guess number: 80\n",
            "Wrong! Please guess higher\n"
          ]
        }
      ],
      "source": [
        "import random\n",
        "\n",
        "jackpot = random.randint(1,100)\n",
        "\n",
        "guess_number = int(input(\"Enter your guess number: \"))\n",
        "\n",
        "counter = 1\n",
        "\n",
        "while guess_number != jackpot:\n",
        "\n",
        "  if guess_number < jackpot:\n",
        "    print(\"Wrong! Please guess higher\")\n",
        "\n",
        "  else:\n",
        "    print(\"Wrong! Please guess lower\")\n",
        "\n",
        "  guess_number = int(input(\"Enter your guess number: \"))\n",
        "  counter +=1\n",
        "\n",
        "\n",
        "else:\n",
        "  print(\"Correct Guess\")\n",
        "  print(\"You took\", counter, \"attempts\")"
      ]
    },
    {
      "cell_type": "code",
      "source": [],
      "metadata": {
        "id": "Wqranr8qWJGQ"
      },
      "execution_count": null,
      "outputs": []
    }
  ]
}
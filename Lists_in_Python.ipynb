{
  "nbformat": 4,
  "nbformat_minor": 0,
  "metadata": {
    "colab": {
      "provenance": [],
      "authorship_tag": "ABX9TyMuE3N19OKpyzItFiC3eQaQ",
      "include_colab_link": true
    },
    "kernelspec": {
      "name": "python3",
      "display_name": "Python 3"
    },
    "language_info": {
      "name": "python"
    }
  },
  "cells": [
    {
      "cell_type": "markdown",
      "metadata": {
        "id": "view-in-github",
        "colab_type": "text"
      },
      "source": [
        "<a href=\"https://colab.research.google.com/github/Nabaranjan/Python-A-to-Z/blob/main/Lists_in_Python.ipynb\" target=\"_parent\"><img src=\"https://colab.research.google.com/assets/colab-badge.svg\" alt=\"Open In Colab\"/></a>"
      ]
    },
    {
      "cell_type": "markdown",
      "source": [
        "# Lists in Python"
      ],
      "metadata": {
        "id": "7oLTNf7dgvbo"
      }
    },
    {
      "cell_type": "code",
      "source": [
        "#indexing\n",
        "\n",
        "l = [1,2,3,4,5]\n",
        "l[4]"
      ],
      "metadata": {
        "colab": {
          "base_uri": "https://localhost:8080/"
        },
        "id": "J8Oe6yfrg3KS",
        "outputId": "d4a42702-2b9d-4f3a-d664-c910b6f2a174"
      },
      "execution_count": null,
      "outputs": [
        {
          "output_type": "execute_result",
          "data": {
            "text/plain": [
              "5"
            ]
          },
          "metadata": {},
          "execution_count": 1
        }
      ]
    },
    {
      "cell_type": "code",
      "source": [
        "l3 = [[[1,2],[3,4]],[[5,6],[7,8]]]\n",
        "len(l3)\n"
      ],
      "metadata": {
        "colab": {
          "base_uri": "https://localhost:8080/"
        },
        "id": "mBlXu2ZDreJ4",
        "outputId": "18aab9dc-4037-453e-fad3-2e3cf8800297"
      },
      "execution_count": null,
      "outputs": [
        {
          "output_type": "execute_result",
          "data": {
            "text/plain": [
              "2"
            ]
          },
          "metadata": {},
          "execution_count": 7
        }
      ]
    },
    {
      "cell_type": "code",
      "source": [
        "l = [1,2,3,4,5]\n",
        "l[0:2]"
      ],
      "metadata": {
        "colab": {
          "base_uri": "https://localhost:8080/"
        },
        "id": "CpdUxKNPu-UR",
        "outputId": "4a7e525c-7f3d-400e-c665-c9c31a35c292"
      },
      "execution_count": null,
      "outputs": [
        {
          "output_type": "execute_result",
          "data": {
            "text/plain": [
              "[1, 2]"
            ]
          },
          "metadata": {},
          "execution_count": 8
        }
      ]
    },
    {
      "cell_type": "code",
      "source": [
        "l[::3]"
      ],
      "metadata": {
        "colab": {
          "base_uri": "https://localhost:8080/"
        },
        "id": "gHDujbO1vPix",
        "outputId": "ee85d3e4-58a3-4e97-9208-bcaacd5afd42"
      },
      "execution_count": null,
      "outputs": [
        {
          "output_type": "execute_result",
          "data": {
            "text/plain": [
              "[1, 4]"
            ]
          },
          "metadata": {},
          "execution_count": 9
        }
      ]
    },
    {
      "cell_type": "markdown",
      "source": [
        "Lists Methods in Python"
      ],
      "metadata": {
        "id": "fo98fDc8vaMn"
      }
    },
    {
      "cell_type": "code",
      "source": [
        "# append\n",
        "\n",
        "L = [1,2,3,4]\n",
        "print(L)"
      ],
      "metadata": {
        "colab": {
          "base_uri": "https://localhost:8080/"
        },
        "id": "uycF7c3_veQJ",
        "outputId": "2020b587-6a5f-4f83-f679-6c0ad766ea34"
      },
      "execution_count": null,
      "outputs": [
        {
          "output_type": "stream",
          "name": "stdout",
          "text": [
            "[1, 2, 3, 4]\n"
          ]
        }
      ]
    },
    {
      "cell_type": "code",
      "source": [
        "L.append(5)\n",
        "print(L)"
      ],
      "metadata": {
        "colab": {
          "base_uri": "https://localhost:8080/"
        },
        "id": "AkCmJx66vynS",
        "outputId": "6c7ed792-822f-4cd0-cb27-88132c2b48c1"
      },
      "execution_count": null,
      "outputs": [
        {
          "output_type": "stream",
          "name": "stdout",
          "text": [
            "[1, 2, 3, 4, 5, 5]\n"
          ]
        }
      ]
    },
    {
      "cell_type": "code",
      "source": [
        "L = [1,2,3,4]\n",
        "\n",
        "L[0] = 100\n",
        "\n",
        "\n",
        "print(L)"
      ],
      "metadata": {
        "colab": {
          "base_uri": "https://localhost:8080/"
        },
        "id": "xAD0DtbrwG_A",
        "outputId": "c7f0a15a-281b-44eb-c253-1a0891b348e2"
      },
      "execution_count": null,
      "outputs": [
        {
          "output_type": "stream",
          "name": "stdout",
          "text": [
            "[100, 2, 3, 4]\n"
          ]
        }
      ]
    },
    {
      "cell_type": "code",
      "source": [
        "# editing with indexing\n",
        "\n",
        "L = [1,2,3,4]\n",
        "\n",
        "L[3] = 200\n",
        "\n",
        "print(L)"
      ],
      "metadata": {
        "colab": {
          "base_uri": "https://localhost:8080/"
        },
        "id": "xN4qpk9ZwUXh",
        "outputId": "acaf85f2-975d-4eef-ee76-8e439bbe95c0"
      },
      "execution_count": null,
      "outputs": [
        {
          "output_type": "stream",
          "name": "stdout",
          "text": [
            "[1, 2, 3, 200]\n"
          ]
        }
      ]
    },
    {
      "cell_type": "code",
      "source": [
        "# editing with slicing\n",
        "\n",
        "L = [1,2,3,4]\n",
        "\n",
        "L[1:4] = [200,300,400]\n",
        "\n",
        "print(L)"
      ],
      "metadata": {
        "colab": {
          "base_uri": "https://localhost:8080/"
        },
        "id": "igpyi0t1zF_k",
        "outputId": "e65e6a95-c0e3-433d-f08c-bed34dd46849"
      },
      "execution_count": null,
      "outputs": [
        {
          "output_type": "stream",
          "name": "stdout",
          "text": [
            "[1, 200, 300, 400]\n"
          ]
        }
      ]
    },
    {
      "cell_type": "code",
      "source": [
        "# Append\n",
        "\n",
        "L = [1,2,3,4]\n",
        "\n",
        "L.append(5)\n",
        "L.append(200)\n",
        "\n",
        "print(L)\n"
      ],
      "metadata": {
        "colab": {
          "base_uri": "https://localhost:8080/"
        },
        "id": "rPYDEs7Lzc3Q",
        "outputId": "b1074647-ba6b-4a17-bed3-6e0ac098f78a"
      },
      "execution_count": null,
      "outputs": [
        {
          "output_type": "stream",
          "name": "stdout",
          "text": [
            "[1, 2, 3, 4, 5, 200]\n"
          ]
        }
      ]
    },
    {
      "cell_type": "code",
      "source": [
        "# Extend\n",
        "\n",
        "L = [1,2,3,4]\n",
        "\n",
        "L.append ([6,7,8])\n",
        "print(L)"
      ],
      "metadata": {
        "colab": {
          "base_uri": "https://localhost:8080/"
        },
        "id": "kPOCIPkNzx0O",
        "outputId": "cc764bf8-2a8b-4a7e-c535-860f94a72aa0"
      },
      "execution_count": null,
      "outputs": [
        {
          "output_type": "stream",
          "name": "stdout",
          "text": [
            "[1, 2, 3, 4, [6, 7, 8]]\n"
          ]
        }
      ]
    },
    {
      "cell_type": "code",
      "source": [
        "L = [1,2,3,4]\n",
        "\n",
        "L.append(True)\n",
        "print(L)"
      ],
      "metadata": {
        "colab": {
          "base_uri": "https://localhost:8080/"
        },
        "id": "11bZTC9-0DgT",
        "outputId": "e2c4d209-05ca-4749-e7c7-72cf99e39331"
      },
      "execution_count": null,
      "outputs": [
        {
          "output_type": "stream",
          "name": "stdout",
          "text": [
            "[1, 2, 3, 4, True]\n"
          ]
        }
      ]
    },
    {
      "cell_type": "code",
      "source": [
        "L = [1,2,3,4]\n",
        "\n",
        "a = [10,11,12]\n",
        "\n",
        "L.extend(a)\n",
        "\n",
        "print(L)"
      ],
      "metadata": {
        "colab": {
          "base_uri": "https://localhost:8080/"
        },
        "id": "B6UuYQ3r0LJa",
        "outputId": "50510982-5a5f-45d9-8386-98b502799a2d"
      },
      "execution_count": null,
      "outputs": [
        {
          "output_type": "stream",
          "name": "stdout",
          "text": [
            "[1, 2, 3, 4, 10, 11, 12]\n"
          ]
        }
      ]
    },
    {
      "cell_type": "code",
      "source": [
        "L.extend(\"Hello\")\n",
        "\n",
        "print(L)"
      ],
      "metadata": {
        "colab": {
          "base_uri": "https://localhost:8080/"
        },
        "id": "tFd37oky0qQs",
        "outputId": "002c2d0a-168e-49f9-9cde-e445727ee071"
      },
      "execution_count": null,
      "outputs": [
        {
          "output_type": "stream",
          "name": "stdout",
          "text": [
            "[1, 2, 3, 4, 10, 11, 12, 'H', 'e', 'l', 'l', 'o']\n"
          ]
        }
      ]
    },
    {
      "cell_type": "code",
      "source": [
        "# Insert\n",
        "\n",
        "L = [1,2,3,4]\n",
        "\n",
        "L.insert(1,200)\n",
        "\n",
        "print(L)"
      ],
      "metadata": {
        "colab": {
          "base_uri": "https://localhost:8080/"
        },
        "id": "d9FNxN4Y00l4",
        "outputId": "157e9c0a-b232-4c05-9adb-5d7ad4ab8485"
      },
      "execution_count": null,
      "outputs": [
        {
          "output_type": "stream",
          "name": "stdout",
          "text": [
            "[1, 200, 2, 3, 4]\n"
          ]
        }
      ]
    },
    {
      "cell_type": "code",
      "source": [
        "# Delete\n",
        "\n",
        "L = [1,2,3,4]\n",
        "\n",
        "del L[0]\n",
        "\n",
        "print(L)"
      ],
      "metadata": {
        "colab": {
          "base_uri": "https://localhost:8080/"
        },
        "id": "AewAY0yn461i",
        "outputId": "270af38b-4229-429a-a7cc-82293c97b118"
      },
      "execution_count": null,
      "outputs": [
        {
          "output_type": "stream",
          "name": "stdout",
          "text": [
            "[2, 3, 4]\n"
          ]
        }
      ]
    },
    {
      "cell_type": "code",
      "source": [
        "L = [1,2,3,4]\n",
        "\n",
        "del L[1:3]\n",
        "\n",
        "print(L)"
      ],
      "metadata": {
        "colab": {
          "base_uri": "https://localhost:8080/"
        },
        "id": "7Wk0CFC45Nf5",
        "outputId": "354710f5-7c45-4d8e-bdc5-da17a913507f"
      },
      "execution_count": null,
      "outputs": [
        {
          "output_type": "stream",
          "name": "stdout",
          "text": [
            "[1, 4]\n"
          ]
        }
      ]
    },
    {
      "cell_type": "code",
      "source": [
        "# Remove\n",
        "\n",
        "L = [1,2,3,4]\n",
        "\n",
        "L.remove(4)\n",
        "\n",
        "print(L)"
      ],
      "metadata": {
        "colab": {
          "base_uri": "https://localhost:8080/"
        },
        "id": "TEcOfVko5Wxa",
        "outputId": "c4441cfd-1fa7-47e5-f032-44e82884ae17"
      },
      "execution_count": null,
      "outputs": [
        {
          "output_type": "stream",
          "name": "stdout",
          "text": [
            "[1, 2, 3]\n"
          ]
        }
      ]
    },
    {
      "cell_type": "code",
      "source": [
        "# POP\n",
        "\n",
        "L = [1,2,3,4]\n",
        "\n",
        "L.pop()\n",
        "L.pop()\n",
        "print(L)"
      ],
      "metadata": {
        "colab": {
          "base_uri": "https://localhost:8080/"
        },
        "id": "Au-Nk34w5ntx",
        "outputId": "86eb13ab-7407-4cd6-e058-ef36c9e7ae8f"
      },
      "execution_count": null,
      "outputs": [
        {
          "output_type": "stream",
          "name": "stdout",
          "text": [
            "[1, 2]\n"
          ]
        }
      ]
    },
    {
      "cell_type": "code",
      "source": [
        "# Clear\n",
        "\n",
        "L = [1,2,3,4]\n",
        "\n",
        "L.clear()\n",
        "\n",
        "print(L)\n",
        "\n"
      ],
      "metadata": {
        "colab": {
          "base_uri": "https://localhost:8080/"
        },
        "id": "1Q3Mai6q5zTo",
        "outputId": "13d896cf-99d5-492f-d96f-b5b830cf9940"
      },
      "execution_count": null,
      "outputs": [
        {
          "output_type": "stream",
          "name": "stdout",
          "text": [
            "[]\n"
          ]
        }
      ]
    },
    {
      "cell_type": "code",
      "source": [
        "# Len / Min / Max / Sorted\n",
        "\n",
        "L = [1,2,3,4]\n",
        "\n",
        "print(len(L))\n",
        "print(min(L))\n",
        "print(max(L))\n",
        "print(sorted(L,reverse=False))"
      ],
      "metadata": {
        "colab": {
          "base_uri": "https://localhost:8080/"
        },
        "id": "6BwgflHg6D5G",
        "outputId": "ce656330-1a78-4bd3-8fe8-8d5b2e78ec54"
      },
      "execution_count": null,
      "outputs": [
        {
          "output_type": "stream",
          "name": "stdout",
          "text": [
            "4\n",
            "1\n",
            "4\n",
            "[1, 2, 3, 4]\n"
          ]
        }
      ]
    },
    {
      "cell_type": "code",
      "source": [
        "# Count\n",
        "\n",
        "L = [1,2,3,4]\n",
        "\n",
        "L.count(5)"
      ],
      "metadata": {
        "colab": {
          "base_uri": "https://localhost:8080/"
        },
        "id": "EWeKrwdo6yLO",
        "outputId": "14347503-a1b3-455b-b2db-7875f9d6cba9"
      },
      "execution_count": null,
      "outputs": [
        {
          "output_type": "execute_result",
          "data": {
            "text/plain": [
              "0"
            ]
          },
          "metadata": {},
          "execution_count": 30
        }
      ]
    },
    {
      "cell_type": "code",
      "source": [
        "# index\n",
        "\n",
        "L = [1,2,3,4]\n",
        "\n",
        "L.index(2)"
      ],
      "metadata": {
        "colab": {
          "base_uri": "https://localhost:8080/"
        },
        "id": "Lba9f-h6640S",
        "outputId": "8d5067a1-3b00-4673-abb1-5692bbb0f62d"
      },
      "execution_count": null,
      "outputs": [
        {
          "output_type": "execute_result",
          "data": {
            "text/plain": [
              "1"
            ]
          },
          "metadata": {},
          "execution_count": 31
        }
      ]
    },
    {
      "cell_type": "code",
      "source": [
        "#reverse\n",
        "\n",
        "L = [1,2,3,4]\n",
        "\n",
        "L.reverse()\n",
        "print(L)"
      ],
      "metadata": {
        "colab": {
          "base_uri": "https://localhost:8080/"
        },
        "id": "s2ObWmD27Beb",
        "outputId": "d6d53ac6-e465-4ffb-f50b-13c9a1cc6182"
      },
      "execution_count": null,
      "outputs": [
        {
          "output_type": "stream",
          "name": "stdout",
          "text": [
            "[4, 3, 2, 1]\n"
          ]
        }
      ]
    },
    {
      "cell_type": "code",
      "source": [
        "#Sort\n",
        "L = [4,2,1,55,10]\n",
        "\n",
        "L.sort()\n",
        "print(L)\n",
        "\n"
      ],
      "metadata": {
        "colab": {
          "base_uri": "https://localhost:8080/"
        },
        "id": "FhJ2P7Gx7RNS",
        "outputId": "fab8795f-4c46-41db-f802-68abe57ae7ae"
      },
      "execution_count": null,
      "outputs": [
        {
          "output_type": "stream",
          "name": "stdout",
          "text": [
            "[1, 2, 4, 10, 55]\n"
          ]
        }
      ]
    },
    {
      "cell_type": "code",
      "source": [
        "# Copy\n",
        "\n",
        "L = [1,2,3,4]\n",
        "\n",
        "l1 = L.copy()\n",
        "\n",
        "print(l1)\n",
        "\n",
        "L.append(500)\n",
        "print(L)"
      ],
      "metadata": {
        "colab": {
          "base_uri": "https://localhost:8080/"
        },
        "id": "IeGcaBgfGtf7",
        "outputId": "bf77a21f-3b83-49de-928a-58d34aa7a4fc"
      },
      "execution_count": null,
      "outputs": [
        {
          "output_type": "stream",
          "name": "stdout",
          "text": [
            "[1, 2, 3, 4]\n",
            "[1, 2, 3, 4, 500]\n"
          ]
        }
      ]
    },
    {
      "cell_type": "markdown",
      "source": [
        "# Operations on Lists\n",
        "\n",
        "\n",
        "\n",
        "1.   Arithmetic\n",
        "1.   Membership\n",
        "2.   Loop\n",
        "\n"
      ],
      "metadata": {
        "id": "N_7lLAfYHVrG"
      }
    },
    {
      "cell_type": "code",
      "source": [
        "L1 = [1,2,3,4,5]\n",
        "L2 = [5,6,7,8,9]\n",
        "\n",
        "L1+L2 # Concatination"
      ],
      "metadata": {
        "colab": {
          "base_uri": "https://localhost:8080/"
        },
        "id": "-ovGqbYAHTOU",
        "outputId": "a83d533c-da8c-4ec4-fb37-3d60c2f1309e"
      },
      "execution_count": null,
      "outputs": [
        {
          "output_type": "execute_result",
          "data": {
            "text/plain": [
              "[1, 2, 3, 4, 5, 5, 6, 7, 8, 9]"
            ]
          },
          "metadata": {},
          "execution_count": 36
        }
      ]
    },
    {
      "cell_type": "code",
      "source": [
        "# Membership\n",
        "\n",
        "L1 = [1,2,3,4,5]\n",
        "L2 = [5,6,[7,8,9]]\n",
        "\n",
        "print(4 in L1)\n",
        "print([7,8,90] not in L2)"
      ],
      "metadata": {
        "colab": {
          "base_uri": "https://localhost:8080/"
        },
        "id": "UM7P6QHSImNw",
        "outputId": "b8ca5af2-8cd2-408e-c8b0-d3f27a2e5927"
      },
      "execution_count": null,
      "outputs": [
        {
          "output_type": "stream",
          "name": "stdout",
          "text": [
            "True\n",
            "True\n"
          ]
        }
      ]
    },
    {
      "cell_type": "code",
      "source": [
        "# Loop\n",
        "\n",
        "L1 = [1,2,3,4,5]\n",
        "\n",
        "for i in L1:\n",
        "  print(i)\n",
        "\n"
      ],
      "metadata": {
        "colab": {
          "base_uri": "https://localhost:8080/"
        },
        "id": "DiAmlLvOJIqM",
        "outputId": "bbff311b-f028-4d25-a89b-d1fde0ce865f"
      },
      "execution_count": null,
      "outputs": [
        {
          "output_type": "stream",
          "name": "stdout",
          "text": [
            "1\n",
            "2\n",
            "3\n",
            "4\n",
            "5\n"
          ]
        }
      ]
    },
    {
      "cell_type": "markdown",
      "source": [
        "# List Comprehension"
      ],
      "metadata": {
        "id": "b3UDuwlikyQ5"
      }
    },
    {
      "cell_type": "code",
      "source": [
        "# Add 1 to 10 numbers to a list\n",
        "\n",
        "L = []\n",
        "\n",
        "for i in range(1,11):\n",
        "  L.append(i)\n",
        "\n",
        "  print(L)"
      ],
      "metadata": {
        "colab": {
          "base_uri": "https://localhost:8080/"
        },
        "id": "dxeO9zYHMrdT",
        "outputId": "b97928f9-02c8-4691-cd02-fa53b32bcb27"
      },
      "execution_count": 1,
      "outputs": [
        {
          "output_type": "stream",
          "name": "stdout",
          "text": [
            "[1]\n",
            "[1, 2]\n",
            "[1, 2, 3]\n",
            "[1, 2, 3, 4]\n",
            "[1, 2, 3, 4, 5]\n",
            "[1, 2, 3, 4, 5, 6]\n",
            "[1, 2, 3, 4, 5, 6, 7]\n",
            "[1, 2, 3, 4, 5, 6, 7, 8]\n",
            "[1, 2, 3, 4, 5, 6, 7, 8, 9]\n",
            "[1, 2, 3, 4, 5, 6, 7, 8, 9, 10]\n"
          ]
        }
      ]
    },
    {
      "cell_type": "code",
      "source": [
        "L =[i for i in range(1,11)]\n",
        "print(L)"
      ],
      "metadata": {
        "colab": {
          "base_uri": "https://localhost:8080/"
        },
        "id": "bPT2UNROqeeZ",
        "outputId": "3fd9d19b-294c-4a59-efb0-78212094e1d6"
      },
      "execution_count": 2,
      "outputs": [
        {
          "output_type": "stream",
          "name": "stdout",
          "text": [
            "[1, 2, 3, 4, 5, 6, 7, 8, 9, 10]\n"
          ]
        }
      ]
    },
    {
      "cell_type": "code",
      "source": [
        "# Scalar Multiplication on a vector\n",
        "\n",
        "v = [2,3,4]\n",
        "s = -3\n",
        "\n",
        "L = []\n",
        "\n",
        "for i in v:\n",
        "  result = i * s\n",
        "  L.append(result)\n",
        "\n",
        "\n",
        "  print(L)"
      ],
      "metadata": {
        "colab": {
          "base_uri": "https://localhost:8080/"
        },
        "id": "Yr7b4N9dqoaG",
        "outputId": "f5bebe51-9c9f-4537-c1ff-e3c54d2b6713"
      },
      "execution_count": 6,
      "outputs": [
        {
          "output_type": "stream",
          "name": "stdout",
          "text": [
            "[-6]\n",
            "[-6, -9]\n",
            "[-6, -9, -12]\n"
          ]
        }
      ]
    },
    {
      "cell_type": "code",
      "source": [
        "  L = [i*s for i in v]\n",
        "\n",
        "  print(L)"
      ],
      "metadata": {
        "colab": {
          "base_uri": "https://localhost:8080/"
        },
        "id": "O7GGHpofrcFd",
        "outputId": "72f187db-a06d-44b4-d3d1-ea48da710304"
      },
      "execution_count": 7,
      "outputs": [
        {
          "output_type": "stream",
          "name": "stdout",
          "text": [
            "[-6, -9, -12]\n"
          ]
        }
      ]
    },
    {
      "cell_type": "code",
      "source": [
        "# Add squares\n",
        "\n",
        "L = [1,2,3,4]\n",
        "\n",
        "LC =[i**2 for i in L]\n",
        "print(LC)"
      ],
      "metadata": {
        "colab": {
          "base_uri": "https://localhost:8080/"
        },
        "id": "8aY7u1zPrfbn",
        "outputId": "25214603-d93d-4f9f-83d9-3f4c0cf117a0"
      },
      "execution_count": 8,
      "outputs": [
        {
          "output_type": "stream",
          "name": "stdout",
          "text": [
            "[1, 4, 9, 16]\n"
          ]
        }
      ]
    },
    {
      "cell_type": "code",
      "source": [
        "# Print all numbers divisible by 5 in the range of 1 to 50\n",
        "\n",
        "for i in range(1,51):\n",
        "  if i%5==0:\n",
        "    print(i)"
      ],
      "metadata": {
        "colab": {
          "base_uri": "https://localhost:8080/"
        },
        "id": "dzB6VW1NsOux",
        "outputId": "31b75c8b-f685-413b-822b-5f4a26323db7"
      },
      "execution_count": 10,
      "outputs": [
        {
          "output_type": "stream",
          "name": "stdout",
          "text": [
            "5\n",
            "10\n",
            "15\n",
            "20\n",
            "25\n",
            "30\n",
            "35\n",
            "40\n",
            "45\n",
            "50\n"
          ]
        }
      ]
    },
    {
      "cell_type": "code",
      "source": [
        "L = [i for i in range(1,51) if i%5==0]\n",
        "print(L)"
      ],
      "metadata": {
        "colab": {
          "base_uri": "https://localhost:8080/"
        },
        "id": "TKdNVM3J5SwH",
        "outputId": "9224c388-9a2d-45f8-fb66-3d5868f004b6"
      },
      "execution_count": 12,
      "outputs": [
        {
          "output_type": "stream",
          "name": "stdout",
          "text": [
            "[5, 10, 15, 20, 25, 30, 35, 40, 45, 50]\n"
          ]
        }
      ]
    },
    {
      "cell_type": "code",
      "source": [
        "# find languages which start with letter p\n",
        "\n",
        "languages = ['java','python','c','javascript']\n",
        "\n",
        "LC = [language for language in languages if language.startswith(\"p\")]\n",
        "print(LC)"
      ],
      "metadata": {
        "colab": {
          "base_uri": "https://localhost:8080/"
        },
        "id": "Nicz_XYl5tA9",
        "outputId": "46f27da7-7f81-4a8e-af6e-546cd243ac0c"
      },
      "execution_count": 18,
      "outputs": [
        {
          "output_type": "stream",
          "name": "stdout",
          "text": [
            "['python']\n"
          ]
        }
      ]
    },
    {
      "cell_type": "markdown",
      "source": [
        "# Zip Function"
      ],
      "metadata": {
        "id": "K5TbI0je6zsj"
      }
    },
    {
      "cell_type": "code",
      "source": [
        "L1 = [1,2,3,4]\n",
        "L2 = [5,6,7,8]\n",
        "list(zip(L1,L2))"
      ],
      "metadata": {
        "colab": {
          "base_uri": "https://localhost:8080/"
        },
        "id": "aJLfkBtn6ti8",
        "outputId": "f1b1944c-fa39-49d1-f146-e7c951d47ffa"
      },
      "execution_count": 19,
      "outputs": [
        {
          "output_type": "execute_result",
          "data": {
            "text/plain": [
              "[(1, 5), (2, 6), (3, 7), (4, 8)]"
            ]
          },
          "metadata": {},
          "execution_count": 19
        }
      ]
    },
    {
      "cell_type": "code",
      "source": [
        "roll_number = [1,2,3,4,5]\n",
        "student_name = ['Nabaranjnan','Guddu',\"Lucky\",'Happy']\n",
        "\n",
        "list(zip(roll_number, student_name))"
      ],
      "metadata": {
        "colab": {
          "base_uri": "https://localhost:8080/"
        },
        "id": "SWxjrzbK9t02",
        "outputId": "d7a1cc3f-c2d0-489e-e06e-40640d309494"
      },
      "execution_count": 20,
      "outputs": [
        {
          "output_type": "execute_result",
          "data": {
            "text/plain": [
              "[(1, 'Nabaranjnan'), (2, 'Guddu'), (3, 'Lucky'), (4, 'Happy')]"
            ]
          },
          "metadata": {},
          "execution_count": 20
        }
      ]
    },
    {
      "cell_type": "code",
      "source": [
        "L1 = [1,2,3,4]\n",
        "L2 = [5,6,7,8]\n",
        "\n",
        "[i-j for i,j in zip(L2, L1)]"
      ],
      "metadata": {
        "colab": {
          "base_uri": "https://localhost:8080/"
        },
        "id": "NtFEffec-Uyp",
        "outputId": "545d4031-ffbe-4c7f-e2f8-b1e68c120c3a"
      },
      "execution_count": 23,
      "outputs": [
        {
          "output_type": "execute_result",
          "data": {
            "text/plain": [
              "[4, 4, 4, 4]"
            ]
          },
          "metadata": {},
          "execution_count": 23
        }
      ]
    },
    {
      "cell_type": "code",
      "source": [
        "L1 = [1,2,3,4]\n",
        "L2 = [5,6,7,8]\n",
        "L3 = [9,10,11,12]\n",
        "\n",
        "list(zip(L1,L2,L3))"
      ],
      "metadata": {
        "colab": {
          "base_uri": "https://localhost:8080/"
        },
        "id": "KR8ReXoU-xGr",
        "outputId": "ed87501b-651a-4ccd-857d-1538d5a3da27"
      },
      "execution_count": 24,
      "outputs": [
        {
          "output_type": "execute_result",
          "data": {
            "text/plain": [
              "[(1, 5, 9), (2, 6, 10), (3, 7, 11), (4, 8, 12)]"
            ]
          },
          "metadata": {},
          "execution_count": 24
        }
      ]
    },
    {
      "cell_type": "code",
      "source": [
        "zip(L1,L2)\n",
        "\n",
        "for i in zip(L1,L2):\n",
        "  print(i)"
      ],
      "metadata": {
        "colab": {
          "base_uri": "https://localhost:8080/"
        },
        "id": "RLMgs1yR_j3y",
        "outputId": "b4ea5632-df81-4da2-f3dc-43b6aa7e311f"
      },
      "execution_count": 25,
      "outputs": [
        {
          "output_type": "stream",
          "name": "stdout",
          "text": [
            "(1, 5)\n",
            "(2, 6)\n",
            "(3, 7)\n",
            "(4, 8)\n"
          ]
        }
      ]
    },
    {
      "cell_type": "markdown",
      "source": [
        "# Exercise"
      ],
      "metadata": {
        "id": "HUYB1EtGA4HC"
      }
    },
    {
      "cell_type": "code",
      "source": [
        "cars_name = [\"Audi\",\"BMW\",\"TATA\",\"Volvo\"]\n",
        "no_of_cars = [10,20,30,5]\n",
        "\n",
        "for i,j in zip(cars_name,no_of_cars):\n",
        "  print(f\"{i} = {j}\")\n"
      ],
      "metadata": {
        "colab": {
          "base_uri": "https://localhost:8080/"
        },
        "id": "WokzHqz1ARsN",
        "outputId": "6a8b6cc1-3882-4c58-f908-042eb42940b3"
      },
      "execution_count": 27,
      "outputs": [
        {
          "output_type": "stream",
          "name": "stdout",
          "text": [
            "Audi = 10\n",
            "BMW = 20\n",
            "TATA = 30\n",
            "Volvo = 5\n"
          ]
        }
      ]
    },
    {
      "cell_type": "code",
      "source": [
        "L = [2,4,6,10,1]\n",
        "\n",
        "result = []\n",
        "\n",
        "for i in L:\n",
        "  sum = 0\n",
        "  for j in L:\n",
        "    if i<=j:\n",
        "      sum = sum + j\n",
        "    result.append(sum)\n",
        "\n",
        "  print(result)"
      ],
      "metadata": {
        "colab": {
          "base_uri": "https://localhost:8080/"
        },
        "id": "9NjH1X0HD0ns",
        "outputId": "3367b442-e66b-4f65-8acd-ae1a492d144e"
      },
      "execution_count": 30,
      "outputs": [
        {
          "output_type": "stream",
          "name": "stdout",
          "text": [
            "[2, 6, 12, 22, 22]\n",
            "[2, 6, 12, 22, 22, 0, 4, 10, 20, 20]\n",
            "[2, 6, 12, 22, 22, 0, 4, 10, 20, 20, 0, 0, 6, 16, 16]\n",
            "[2, 6, 12, 22, 22, 0, 4, 10, 20, 20, 0, 0, 6, 16, 16, 0, 0, 0, 10, 10]\n",
            "[2, 6, 12, 22, 22, 0, 4, 10, 20, 20, 0, 0, 6, 16, 16, 0, 0, 0, 10, 10, 2, 6, 12, 22, 23]\n"
          ]
        }
      ]
    },
    {
      "cell_type": "code",
      "source": [],
      "metadata": {
        "id": "s8sY1PI3FrhX"
      },
      "execution_count": null,
      "outputs": []
    }
  ]
}
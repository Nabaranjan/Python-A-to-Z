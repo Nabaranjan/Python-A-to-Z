{
  "nbformat": 4,
  "nbformat_minor": 0,
  "metadata": {
    "colab": {
      "provenance": [],
      "authorship_tag": "ABX9TyP5sVum/k2Fva0o7J91miPi",
      "include_colab_link": true
    },
    "kernelspec": {
      "name": "python3",
      "display_name": "Python 3"
    },
    "language_info": {
      "name": "python"
    }
  },
  "cells": [
    {
      "cell_type": "markdown",
      "metadata": {
        "id": "view-in-github",
        "colab_type": "text"
      },
      "source": [
        "<a href=\"https://colab.research.google.com/github/Nabaranjan/Python-A-to-Z/blob/main/Nested_For_Loop.ipynb\" target=\"_parent\"><img src=\"https://colab.research.google.com/assets/colab-badge.svg\" alt=\"Open In Colab\"/></a>"
      ]
    },
    {
      "cell_type": "code",
      "execution_count": 1,
      "metadata": {
        "colab": {
          "base_uri": "https://localhost:8080/"
        },
        "id": "BD8XvH4HeXuO",
        "outputId": "33678cab-d987-4774-b985-1a6a74e8888d"
      },
      "outputs": [
        {
          "output_type": "stream",
          "name": "stdout",
          "text": [
            "1 1\n",
            "1 2\n",
            "1 3\n",
            "1 4\n",
            "2 1\n",
            "2 2\n",
            "2 3\n",
            "2 4\n",
            "3 1\n",
            "3 2\n",
            "3 3\n",
            "3 4\n",
            "4 1\n",
            "4 2\n",
            "4 3\n",
            "4 4\n"
          ]
        }
      ],
      "source": [
        "# Unique Pairs\n",
        "\n",
        "for i in range(1,5):\n",
        "  for j in range(1,5):\n",
        "    print(i,j)\n"
      ]
    },
    {
      "cell_type": "markdown",
      "source": [
        "#Excercise"
      ],
      "metadata": {
        "id": "QWsxszRZpQ8V"
      }
    },
    {
      "cell_type": "code",
      "source": [
        "row = int(input(\"Enter number of rows: \"))\n",
        "\n",
        "for i in range(1,row+1):\n",
        "  print(\"*\")"
      ],
      "metadata": {
        "colab": {
          "base_uri": "https://localhost:8080/"
        },
        "id": "NoTWE6k7nwuK",
        "outputId": "a768ece7-0711-47e0-ce7d-c9c403a296d6"
      },
      "execution_count": 3,
      "outputs": [
        {
          "output_type": "stream",
          "name": "stdout",
          "text": [
            "Enter number of rows: 2\n",
            "*\n",
            "*\n"
          ]
        }
      ]
    },
    {
      "cell_type": "code",
      "source": [
        "row = int(input(\"Enter number of rows: \"))\n",
        "\n",
        "for i in range(1, row+1):\n",
        "  for j in range(1, i+1):\n",
        "    print(\"*\", end=\"\")\n",
        "  print()"
      ],
      "metadata": {
        "colab": {
          "base_uri": "https://localhost:8080/"
        },
        "id": "bhSH80KRpvYa",
        "outputId": "39f4b88f-bb16-463a-909a-fbfc0efe23cf"
      },
      "execution_count": 6,
      "outputs": [
        {
          "output_type": "stream",
          "name": "stdout",
          "text": [
            "Enter number of rows: 5\n",
            "*\n",
            "**\n",
            "***\n",
            "****\n",
            "*****\n"
          ]
        }
      ]
    }
  ]
}
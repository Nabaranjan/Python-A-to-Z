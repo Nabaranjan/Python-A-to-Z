{
  "nbformat": 4,
  "nbformat_minor": 0,
  "metadata": {
    "colab": {
      "provenance": [],
      "authorship_tag": "ABX9TyMNJ/VH7UX0uxYqKrl04efN",
      "include_colab_link": true
    },
    "kernelspec": {
      "name": "python3",
      "display_name": "Python 3"
    },
    "language_info": {
      "name": "python"
    }
  },
  "cells": [
    {
      "cell_type": "markdown",
      "metadata": {
        "id": "view-in-github",
        "colab_type": "text"
      },
      "source": [
        "<a href=\"https://colab.research.google.com/github/Nabaranjan/Python-A-to-Z/blob/main/String_in_Python.ipynb\" target=\"_parent\"><img src=\"https://colab.research.google.com/assets/colab-badge.svg\" alt=\"Open In Colab\"/></a>"
      ]
    },
    {
      "cell_type": "markdown",
      "source": [
        "# Creating String"
      ],
      "metadata": {
        "id": "V-dW5wVCjjOz"
      }
    },
    {
      "cell_type": "code",
      "source": [
        "\"this is python\""
      ],
      "metadata": {
        "colab": {
          "base_uri": "https://localhost:8080/",
          "height": 35
        },
        "id": "9pPKUb1fi0q8",
        "outputId": "619ae5b4-1ed5-4232-ab68-c313998295d6"
      },
      "execution_count": null,
      "outputs": [
        {
          "output_type": "execute_result",
          "data": {
            "text/plain": [
              "'this is python'"
            ],
            "application/vnd.google.colaboratory.intrinsic+json": {
              "type": "string"
            }
          },
          "metadata": {},
          "execution_count": 1
        }
      ]
    },
    {
      "cell_type": "code",
      "source": [
        "s = str('Nabaranjan')\n",
        "print(s)"
      ],
      "metadata": {
        "colab": {
          "base_uri": "https://localhost:8080/"
        },
        "id": "C5RJMzpL2d-R",
        "outputId": "18d5b82b-9071-4678-f4d6-9ae9987494e1"
      },
      "execution_count": null,
      "outputs": [
        {
          "output_type": "stream",
          "name": "stdout",
          "text": [
            "Nabaranjan\n"
          ]
        }
      ]
    },
    {
      "cell_type": "code",
      "source": [
        "s = str(\"\"\"This is Python.\n",
        "I love to write code\"\"\")\n",
        "\n",
        "print(s)"
      ],
      "metadata": {
        "colab": {
          "base_uri": "https://localhost:8080/"
        },
        "id": "UmJ4PNGu2vxH",
        "outputId": "17ae57c0-87eb-41f9-90fc-90327428dae2"
      },
      "execution_count": null,
      "outputs": [
        {
          "output_type": "stream",
          "name": "stdout",
          "text": [
            "This is Python.\n",
            "I love to write code\n"
          ]
        }
      ]
    },
    {
      "cell_type": "markdown",
      "source": [
        "# Accessing Strings"
      ],
      "metadata": {
        "id": "0RQYHv7w3Gnm"
      }
    },
    {
      "cell_type": "code",
      "source": [
        "s = \"welcome to python\"\n",
        "print(s[1])\n",
        "print(s[0])\n",
        "len(s)"
      ],
      "metadata": {
        "colab": {
          "base_uri": "https://localhost:8080/"
        },
        "id": "-7v2ijwT3LoH",
        "outputId": "d6cf276c-afcc-4c3f-f57d-6f331bda3dc5"
      },
      "execution_count": null,
      "outputs": [
        {
          "output_type": "stream",
          "name": "stdout",
          "text": [
            "e\n",
            "w\n"
          ]
        },
        {
          "output_type": "execute_result",
          "data": {
            "text/plain": [
              "17"
            ]
          },
          "metadata": {},
          "execution_count": 7
        }
      ]
    },
    {
      "cell_type": "code",
      "source": [
        "# Negative indexing\n",
        "\n",
        "s = \"welcome to python\"\n",
        "\n",
        "print(s[-1])"
      ],
      "metadata": {
        "colab": {
          "base_uri": "https://localhost:8080/"
        },
        "id": "QDzHLD_t6TYf",
        "outputId": "c6341669-cd53-49d1-a879-da4cf3fe3e5f"
      },
      "execution_count": null,
      "outputs": [
        {
          "output_type": "stream",
          "name": "stdout",
          "text": [
            "n\n"
          ]
        }
      ]
    },
    {
      "cell_type": "code",
      "source": [
        "# String Slicing\n",
        "\n",
        "s = \"welcome to python\"\n",
        "\n",
        "print(s[0:7])\n",
        "print(s[:4])\n",
        "print(s[:])\n",
        "print(s[0:7:2])"
      ],
      "metadata": {
        "colab": {
          "base_uri": "https://localhost:8080/"
        },
        "id": "kana6_sj6-7K",
        "outputId": "3726bee3-baaf-4f6b-8ca0-13bbb097e167"
      },
      "execution_count": null,
      "outputs": [
        {
          "output_type": "stream",
          "name": "stdout",
          "text": [
            "welcome\n",
            "welc\n",
            "welcome to python\n",
            "wloe\n"
          ]
        }
      ]
    },
    {
      "cell_type": "code",
      "source": [
        "s = \"welcome to python\"\n",
        "\n",
        "print(s[::-1])"
      ],
      "metadata": {
        "colab": {
          "base_uri": "https://localhost:8080/"
        },
        "id": "0lV1QUvw9UKA",
        "outputId": "d84dcac7-6bb1-4d9c-edaf-07d86b5c6f0b"
      },
      "execution_count": null,
      "outputs": [
        {
          "output_type": "stream",
          "name": "stdout",
          "text": [
            "nohtyp ot emoclew\n"
          ]
        }
      ]
    },
    {
      "cell_type": "code",
      "source": [
        "# Adding chars in string\n",
        "\n",
        "s = \"welcome to python\"\n",
        "\n",
        "s[0] = 'A'  #strings are immutable"
      ],
      "metadata": {
        "colab": {
          "base_uri": "https://localhost:8080/",
          "height": 176
        },
        "id": "RVx0xSrG-IYP",
        "outputId": "2c24a811-968a-4971-86d2-b45cd8e87265"
      },
      "execution_count": null,
      "outputs": [
        {
          "output_type": "error",
          "ename": "TypeError",
          "evalue": "'str' object does not support item assignment",
          "traceback": [
            "\u001b[0;31m---------------------------------------------------------------------------\u001b[0m",
            "\u001b[0;31mTypeError\u001b[0m                                 Traceback (most recent call last)",
            "\u001b[0;32m<ipython-input-13-117b779ce680>\u001b[0m in \u001b[0;36m<cell line: 5>\u001b[0;34m()\u001b[0m\n\u001b[1;32m      3\u001b[0m \u001b[0ms\u001b[0m \u001b[0;34m=\u001b[0m \u001b[0;34m\"welcome to python\"\u001b[0m\u001b[0;34m\u001b[0m\u001b[0;34m\u001b[0m\u001b[0m\n\u001b[1;32m      4\u001b[0m \u001b[0;34m\u001b[0m\u001b[0m\n\u001b[0;32m----> 5\u001b[0;31m \u001b[0ms\u001b[0m\u001b[0;34m[\u001b[0m\u001b[0;36m0\u001b[0m\u001b[0;34m]\u001b[0m \u001b[0;34m=\u001b[0m \u001b[0;34m'A'\u001b[0m\u001b[0;34m\u001b[0m\u001b[0;34m\u001b[0m\u001b[0m\n\u001b[0m",
            "\u001b[0;31mTypeError\u001b[0m: 'str' object does not support item assignment"
          ]
        }
      ]
    },
    {
      "cell_type": "code",
      "source": [
        "s = \"welcome to python\"\n",
        "\n",
        "s[0]"
      ],
      "metadata": {
        "colab": {
          "base_uri": "https://localhost:8080/",
          "height": 35
        },
        "id": "R786r3zp_pLK",
        "outputId": "b26aa6f9-ec95-4978-e48b-1b51d2841cc4"
      },
      "execution_count": null,
      "outputs": [
        {
          "output_type": "execute_result",
          "data": {
            "text/plain": [
              "'w'"
            ],
            "application/vnd.google.colaboratory.intrinsic+json": {
              "type": "string"
            }
          },
          "metadata": {},
          "execution_count": 14
        }
      ]
    },
    {
      "cell_type": "code",
      "source": [
        "s = \"welcome to python\"\n",
        "\n",
        "del s[0] #can not delete in string"
      ],
      "metadata": {
        "colab": {
          "base_uri": "https://localhost:8080/",
          "height": 176
        },
        "id": "UU6Qtb4oADO3",
        "outputId": "769f93ab-3a02-4f2b-bcac-c82bc21073a3"
      },
      "execution_count": null,
      "outputs": [
        {
          "output_type": "error",
          "ename": "TypeError",
          "evalue": "'str' object doesn't support item deletion",
          "traceback": [
            "\u001b[0;31m---------------------------------------------------------------------------\u001b[0m",
            "\u001b[0;31mTypeError\u001b[0m                                 Traceback (most recent call last)",
            "\u001b[0;32m<ipython-input-15-2e03a1fcf55b>\u001b[0m in \u001b[0;36m<cell line: 3>\u001b[0;34m()\u001b[0m\n\u001b[1;32m      1\u001b[0m \u001b[0ms\u001b[0m \u001b[0;34m=\u001b[0m \u001b[0;34m\"welcome to python\"\u001b[0m\u001b[0;34m\u001b[0m\u001b[0;34m\u001b[0m\u001b[0m\n\u001b[1;32m      2\u001b[0m \u001b[0;34m\u001b[0m\u001b[0m\n\u001b[0;32m----> 3\u001b[0;31m \u001b[0;32mdel\u001b[0m \u001b[0ms\u001b[0m\u001b[0;34m[\u001b[0m\u001b[0;36m0\u001b[0m\u001b[0;34m]\u001b[0m\u001b[0;34m\u001b[0m\u001b[0;34m\u001b[0m\u001b[0m\n\u001b[0m",
            "\u001b[0;31mTypeError\u001b[0m: 'str' object doesn't support item deletion"
          ]
        }
      ]
    },
    {
      "cell_type": "markdown",
      "source": [
        "# String Operation"
      ],
      "metadata": {
        "id": "R_MBPxwXAe5_"
      }
    },
    {
      "cell_type": "code",
      "source": [
        "# Arithmetic Operations\n",
        "\n",
        "print(\"Hi\" +\" \" + \"Everyone\")  #concatination"
      ],
      "metadata": {
        "colab": {
          "base_uri": "https://localhost:8080/"
        },
        "id": "FP9RKqa-AiLU",
        "outputId": "24fb416e-cb83-4068-c6d9-15c39a65864b"
      },
      "execution_count": null,
      "outputs": [
        {
          "output_type": "stream",
          "name": "stdout",
          "text": [
            "Hi Everyone\n"
          ]
        }
      ]
    },
    {
      "cell_type": "code",
      "source": [
        "print(\"Hi\" * 5)"
      ],
      "metadata": {
        "colab": {
          "base_uri": "https://localhost:8080/"
        },
        "id": "g28N-OhZA-co",
        "outputId": "06ebc17e-e1b5-48e9-8fb4-618ac05c85cc"
      },
      "execution_count": null,
      "outputs": [
        {
          "output_type": "stream",
          "name": "stdout",
          "text": [
            "HiHiHiHiHi\n"
          ]
        }
      ]
    },
    {
      "cell_type": "code",
      "source": [
        "print(\"*\" * 5)"
      ],
      "metadata": {
        "colab": {
          "base_uri": "https://localhost:8080/"
        },
        "id": "XflsbZAfBOLH",
        "outputId": "8ddad3aa-9e81-485c-8015-287c1b9859a3"
      },
      "execution_count": null,
      "outputs": [
        {
          "output_type": "stream",
          "name": "stdout",
          "text": [
            "*****\n"
          ]
        }
      ]
    },
    {
      "cell_type": "code",
      "source": [
        "# Relational Operations\n",
        "\n",
        "print(\"Nabaranjan\" == \"Nabaranjan\")  # equality\n",
        "print(\"Hello\"!= \"World\") #not equal\n",
        "print(\"Hello\" > \"Hi\") #greater than\n",
        "print(\"Hello\" <  \"World\")# less than\n",
        "print(\"Hello\" >= \"Hello\" )#greater than or equal to"
      ],
      "metadata": {
        "colab": {
          "base_uri": "https://localhost:8080/"
        },
        "id": "uFKTrDpDBV5J",
        "outputId": "030bfb70-1a7b-4851-fb6a-836f51b28c16"
      },
      "execution_count": null,
      "outputs": [
        {
          "output_type": "stream",
          "name": "stdout",
          "text": [
            "True\n",
            "True\n",
            "False\n",
            "True\n",
            "True\n"
          ]
        }
      ]
    },
    {
      "cell_type": "code",
      "source": [
        "# Logical Operation\n",
        "\n",
        "\"Hello\" and \"World\""
      ],
      "metadata": {
        "colab": {
          "base_uri": "https://localhost:8080/",
          "height": 35
        },
        "id": "_gFsx9iaCfJ8",
        "outputId": "a23f010d-0ccf-481e-e5b6-cdb630373835"
      },
      "execution_count": null,
      "outputs": [
        {
          "output_type": "execute_result",
          "data": {
            "text/plain": [
              "'World'"
            ],
            "application/vnd.google.colaboratory.intrinsic+json": {
              "type": "string"
            }
          },
          "metadata": {},
          "execution_count": 25
        }
      ]
    },
    {
      "cell_type": "code",
      "source": [
        "\"Hello\" or \"World\""
      ],
      "metadata": {
        "colab": {
          "base_uri": "https://localhost:8080/",
          "height": 35
        },
        "id": "JDphdDSyCtG7",
        "outputId": "eadd0a11-95f6-403c-c6bf-97fa43102a39"
      },
      "execution_count": null,
      "outputs": [
        {
          "output_type": "execute_result",
          "data": {
            "text/plain": [
              "'Hello'"
            ],
            "application/vnd.google.colaboratory.intrinsic+json": {
              "type": "string"
            }
          },
          "metadata": {},
          "execution_count": 26
        }
      ]
    },
    {
      "cell_type": "code",
      "source": [
        "# Loops on String\n",
        "\n",
        "for i in \"Nabaranjan\":\n",
        "  print(i)"
      ],
      "metadata": {
        "colab": {
          "base_uri": "https://localhost:8080/"
        },
        "id": "At54Y8lSCxG-",
        "outputId": "0b53f70f-9294-4c8b-f7ad-52f3e57808ff"
      },
      "execution_count": null,
      "outputs": [
        {
          "output_type": "stream",
          "name": "stdout",
          "text": [
            "N\n",
            "a\n",
            "b\n",
            "a\n",
            "r\n",
            "a\n",
            "n\n",
            "j\n",
            "a\n",
            "n\n"
          ]
        }
      ]
    },
    {
      "cell_type": "code",
      "source": [
        "# Membership Operation\n",
        "'N' in \"Nabarajan\""
      ],
      "metadata": {
        "colab": {
          "base_uri": "https://localhost:8080/"
        },
        "id": "Oj19F-ZmD3NS",
        "outputId": "7306e044-c89d-44eb-fc48-e8f28230d0d6"
      },
      "execution_count": null,
      "outputs": [
        {
          "output_type": "execute_result",
          "data": {
            "text/plain": [
              "True"
            ]
          },
          "metadata": {},
          "execution_count": 28
        }
      ]
    },
    {
      "cell_type": "code",
      "source": [
        "'L' not in \"Nabaranjan\""
      ],
      "metadata": {
        "colab": {
          "base_uri": "https://localhost:8080/"
        },
        "id": "TQqwjeyCEJXH",
        "outputId": "9b7201b7-94cd-4627-f508-e9266a6cbc6e"
      },
      "execution_count": null,
      "outputs": [
        {
          "output_type": "execute_result",
          "data": {
            "text/plain": [
              "True"
            ]
          },
          "metadata": {},
          "execution_count": 29
        }
      ]
    },
    {
      "cell_type": "markdown",
      "source": [
        "# String Methods\n",
        "\n",
        "\n",
        "\n",
        "1.   Len\n",
        "1.   Max\n",
        "2.   Min\n",
        "2.   Sorted\n"
      ],
      "metadata": {
        "id": "QeVjzQkZEYws"
      }
    },
    {
      "cell_type": "code",
      "source": [
        "s = \"Welcome to Python\"\n",
        "len(s)"
      ],
      "metadata": {
        "colab": {
          "base_uri": "https://localhost:8080/"
        },
        "id": "eFDm8QKEEbsm",
        "outputId": "7542f1f1-b322-4dbd-c37a-59487b1f5644"
      },
      "execution_count": null,
      "outputs": [
        {
          "output_type": "execute_result",
          "data": {
            "text/plain": [
              "17"
            ]
          },
          "metadata": {},
          "execution_count": 32
        }
      ]
    },
    {
      "cell_type": "code",
      "source": [
        "s = \"Welcome to Python\"\n",
        "max(s)"
      ],
      "metadata": {
        "colab": {
          "base_uri": "https://localhost:8080/",
          "height": 35
        },
        "id": "ZfXBBigXFHMH",
        "outputId": "e681824d-f77b-436a-9182-0a69b8317fe1"
      },
      "execution_count": null,
      "outputs": [
        {
          "output_type": "execute_result",
          "data": {
            "text/plain": [
              "'y'"
            ],
            "application/vnd.google.colaboratory.intrinsic+json": {
              "type": "string"
            }
          },
          "metadata": {},
          "execution_count": 33
        }
      ]
    },
    {
      "cell_type": "code",
      "source": [
        "s = \"Welcome to Python\"\n",
        "min(s)"
      ],
      "metadata": {
        "colab": {
          "base_uri": "https://localhost:8080/",
          "height": 35
        },
        "id": "5Wbf1rSUFSbj",
        "outputId": "1e73e06e-6dd4-4eb0-965b-813635b8ce08"
      },
      "execution_count": null,
      "outputs": [
        {
          "output_type": "execute_result",
          "data": {
            "text/plain": [
              "' '"
            ],
            "application/vnd.google.colaboratory.intrinsic+json": {
              "type": "string"
            }
          },
          "metadata": {},
          "execution_count": 34
        }
      ]
    },
    {
      "cell_type": "code",
      "source": [
        "s = \"Welcome to Python\"\n",
        "sorted(s)"
      ],
      "metadata": {
        "colab": {
          "base_uri": "https://localhost:8080/"
        },
        "id": "VKA2sbvCFVgo",
        "outputId": "541934d2-4056-441a-a562-a32145880ea1"
      },
      "execution_count": null,
      "outputs": [
        {
          "output_type": "execute_result",
          "data": {
            "text/plain": [
              "[' ',\n",
              " ' ',\n",
              " 'P',\n",
              " 'W',\n",
              " 'c',\n",
              " 'e',\n",
              " 'e',\n",
              " 'h',\n",
              " 'l',\n",
              " 'm',\n",
              " 'n',\n",
              " 'o',\n",
              " 'o',\n",
              " 'o',\n",
              " 't',\n",
              " 't',\n",
              " 'y']"
            ]
          },
          "metadata": {},
          "execution_count": 35
        }
      ]
    },
    {
      "cell_type": "code",
      "source": [
        "s = \"Welcome to Python\"\n",
        "\n",
        "sorted(s, reverse = True)"
      ],
      "metadata": {
        "colab": {
          "base_uri": "https://localhost:8080/"
        },
        "id": "jr_U1wjbFlnh",
        "outputId": "f4cde96f-a3ed-4115-856c-2cba90cd6d1d"
      },
      "execution_count": null,
      "outputs": [
        {
          "output_type": "execute_result",
          "data": {
            "text/plain": [
              "['y',\n",
              " 't',\n",
              " 't',\n",
              " 'o',\n",
              " 'o',\n",
              " 'o',\n",
              " 'n',\n",
              " 'm',\n",
              " 'l',\n",
              " 'h',\n",
              " 'e',\n",
              " 'e',\n",
              " 'c',\n",
              " 'W',\n",
              " 'P',\n",
              " ' ',\n",
              " ' ']"
            ]
          },
          "metadata": {},
          "execution_count": 38
        }
      ]
    },
    {
      "cell_type": "markdown",
      "source": [
        "# Strings Functions/Methods\n",
        "\n",
        "\n",
        "\n",
        "1.   Capitalize\n",
        "1.   Title\n",
        "1.   Upper\n",
        "2.   Lower\n",
        "2.   Swapcase\n",
        "\n"
      ],
      "metadata": {
        "id": "FcdmDnX-GJwO"
      }
    },
    {
      "cell_type": "code",
      "source": [
        "s = \"welcome to python\"\n",
        "\n",
        "s.capitalize()"
      ],
      "metadata": {
        "colab": {
          "base_uri": "https://localhost:8080/",
          "height": 35
        },
        "id": "veEFft7PF5sp",
        "outputId": "7c280e03-2d70-48fa-eddc-38d780ea190b"
      },
      "execution_count": null,
      "outputs": [
        {
          "output_type": "execute_result",
          "data": {
            "text/plain": [
              "'Welcome to python'"
            ],
            "application/vnd.google.colaboratory.intrinsic+json": {
              "type": "string"
            }
          },
          "metadata": {},
          "execution_count": 39
        }
      ]
    },
    {
      "cell_type": "code",
      "source": [
        "print(s)"
      ],
      "metadata": {
        "colab": {
          "base_uri": "https://localhost:8080/"
        },
        "id": "O-pvNiT6G5I4",
        "outputId": "9297724d-8372-4885-be29-8f662e65578b"
      },
      "execution_count": null,
      "outputs": [
        {
          "output_type": "stream",
          "name": "stdout",
          "text": [
            "welcome to python\n"
          ]
        }
      ]
    },
    {
      "cell_type": "code",
      "source": [
        "# title\n",
        "\n",
        "s = \"welcome to python\"\n",
        "\n",
        "s.title()"
      ],
      "metadata": {
        "colab": {
          "base_uri": "https://localhost:8080/",
          "height": 35
        },
        "id": "_WxWLo98HSWg",
        "outputId": "7900369d-a322-44a6-d677-e4ecbf0533fd"
      },
      "execution_count": null,
      "outputs": [
        {
          "output_type": "execute_result",
          "data": {
            "text/plain": [
              "'Welcome To Python'"
            ],
            "application/vnd.google.colaboratory.intrinsic+json": {
              "type": "string"
            }
          },
          "metadata": {},
          "execution_count": 41
        }
      ]
    },
    {
      "cell_type": "code",
      "source": [
        "\n",
        "s = \"welcome to python\"\n",
        "s.upper()"
      ],
      "metadata": {
        "colab": {
          "base_uri": "https://localhost:8080/",
          "height": 35
        },
        "id": "pebs0QufHkYt",
        "outputId": "709f6165-61f6-4fcf-cea6-4500968b0c3b"
      },
      "execution_count": null,
      "outputs": [
        {
          "output_type": "execute_result",
          "data": {
            "text/plain": [
              "'WELCOME TO PYTHON'"
            ],
            "application/vnd.google.colaboratory.intrinsic+json": {
              "type": "string"
            }
          },
          "metadata": {},
          "execution_count": 42
        }
      ]
    },
    {
      "cell_type": "code",
      "source": [
        "s = \"WELCOME TO PYTHON\"\n",
        "s.lower()"
      ],
      "metadata": {
        "colab": {
          "base_uri": "https://localhost:8080/",
          "height": 35
        },
        "id": "uwDvEOymHuc-",
        "outputId": "0d35bab5-518e-44b4-918d-6dcb2a5445d0"
      },
      "execution_count": null,
      "outputs": [
        {
          "output_type": "execute_result",
          "data": {
            "text/plain": [
              "'welcome to python'"
            ],
            "application/vnd.google.colaboratory.intrinsic+json": {
              "type": "string"
            }
          },
          "metadata": {},
          "execution_count": 44
        }
      ]
    },
    {
      "cell_type": "code",
      "source": [
        "s = 'wElCoME to Python'\n",
        "s.swapcase()"
      ],
      "metadata": {
        "colab": {
          "base_uri": "https://localhost:8080/",
          "height": 35
        },
        "id": "ZvLqPUEhH939",
        "outputId": "408e06b5-51a5-4f9c-e2d5-0762699c81d0"
      },
      "execution_count": null,
      "outputs": [
        {
          "output_type": "execute_result",
          "data": {
            "text/plain": [
              "'WeLcOme TO pYTHON'"
            ],
            "application/vnd.google.colaboratory.intrinsic+json": {
              "type": "string"
            }
          },
          "metadata": {},
          "execution_count": 45
        }
      ]
    },
    {
      "cell_type": "markdown",
      "source": [
        "\n",
        "\n",
        "1.  Count\n",
        "2.  Find\n",
        "1.  Index\n",
        "\n",
        "\n",
        "\n"
      ],
      "metadata": {
        "id": "m-pNm7jxISIh"
      }
    },
    {
      "cell_type": "code",
      "source": [
        "s = \"My Name is Nabaranjan\"\n",
        "s.count(\"n\")"
      ],
      "metadata": {
        "colab": {
          "base_uri": "https://localhost:8080/"
        },
        "id": "lQ588lfyId7S",
        "outputId": "a7fd487e-e816-4b12-e9dc-62f08ed230e3"
      },
      "execution_count": null,
      "outputs": [
        {
          "output_type": "execute_result",
          "data": {
            "text/plain": [
              "2"
            ]
          },
          "metadata": {},
          "execution_count": 47
        }
      ]
    },
    {
      "cell_type": "code",
      "source": [
        "s.find(\"a\")"
      ],
      "metadata": {
        "colab": {
          "base_uri": "https://localhost:8080/"
        },
        "id": "jsW1PtNWUVT8",
        "outputId": "af976f0f-94f5-452d-c020-1317a1553b50"
      },
      "execution_count": null,
      "outputs": [
        {
          "output_type": "execute_result",
          "data": {
            "text/plain": [
              "4"
            ]
          },
          "metadata": {},
          "execution_count": 48
        }
      ]
    },
    {
      "cell_type": "code",
      "source": [
        "s.find(\"i\")"
      ],
      "metadata": {
        "colab": {
          "base_uri": "https://localhost:8080/"
        },
        "id": "Pxq9CaKNUgBC",
        "outputId": "2b0b7e20-b3bb-4d7b-fb42-b09897aa5b21"
      },
      "execution_count": null,
      "outputs": [
        {
          "output_type": "execute_result",
          "data": {
            "text/plain": [
              "8"
            ]
          },
          "metadata": {},
          "execution_count": 50
        }
      ]
    },
    {
      "cell_type": "code",
      "source": [
        "s.index(\"n\")"
      ],
      "metadata": {
        "colab": {
          "base_uri": "https://localhost:8080/"
        },
        "id": "i5PWQ6VEViYd",
        "outputId": "8266db15-8f8b-48f5-c24e-1ca76399f7a5"
      },
      "execution_count": null,
      "outputs": [
        {
          "output_type": "execute_result",
          "data": {
            "text/plain": [
              "17"
            ]
          },
          "metadata": {},
          "execution_count": 51
        }
      ]
    },
    {
      "cell_type": "code",
      "source": [
        "s = \"my name is Nabaranjan\"\n",
        "\n",
        "s.endswith(\"an\")"
      ],
      "metadata": {
        "colab": {
          "base_uri": "https://localhost:8080/"
        },
        "id": "KrCENOQvVvIp",
        "outputId": "bd750b68-3627-42fd-d0c8-e90fde71fdbe"
      },
      "execution_count": null,
      "outputs": [
        {
          "output_type": "execute_result",
          "data": {
            "text/plain": [
              "True"
            ]
          },
          "metadata": {},
          "execution_count": 53
        }
      ]
    },
    {
      "cell_type": "code",
      "source": [
        "s = \"My name is Naba\"\n",
        "\n",
        "s.startswith(\"My\")"
      ],
      "metadata": {
        "colab": {
          "base_uri": "https://localhost:8080/"
        },
        "id": "oK9cdsqTV9aO",
        "outputId": "43ce34a2-f2d9-464c-e70d-c44afbbd35b5"
      },
      "execution_count": null,
      "outputs": [
        {
          "output_type": "execute_result",
          "data": {
            "text/plain": [
              "True"
            ]
          },
          "metadata": {},
          "execution_count": 58
        }
      ]
    },
    {
      "cell_type": "code",
      "source": [
        "name = \"Nabaranjan\"\n",
        "gender = \"Male\"\n",
        "\n",
        "s = \"My name is {}, amd am a {}\"\n",
        "s. format(name, gender)"
      ],
      "metadata": {
        "colab": {
          "base_uri": "https://localhost:8080/",
          "height": 35
        },
        "id": "Bif6bxXiWfDY",
        "outputId": "93a05d15-c51c-41b2-8812-c46181454c09"
      },
      "execution_count": null,
      "outputs": [
        {
          "output_type": "execute_result",
          "data": {
            "text/plain": [
              "'My name is Nabaranjan, amd am a Male'"
            ],
            "application/vnd.google.colaboratory.intrinsic+json": {
              "type": "string"
            }
          },
          "metadata": {},
          "execution_count": 59
        }
      ]
    },
    {
      "cell_type": "code",
      "source": [
        "s = \"Naba123\"\n",
        "s.isalnum()"
      ],
      "metadata": {
        "colab": {
          "base_uri": "https://localhost:8080/"
        },
        "id": "vMINppaCYXBK",
        "outputId": "ad93a9f7-69ce-495d-aae2-bbf3a304aad5"
      },
      "execution_count": null,
      "outputs": [
        {
          "output_type": "execute_result",
          "data": {
            "text/plain": [
              "True"
            ]
          },
          "metadata": {},
          "execution_count": 60
        }
      ]
    },
    {
      "cell_type": "code",
      "source": [
        "s.isalpha()"
      ],
      "metadata": {
        "colab": {
          "base_uri": "https://localhost:8080/"
        },
        "id": "pZJqy74QYv6F",
        "outputId": "5fa2efa8-e882-44df-cc8c-eeabfd23f839"
      },
      "execution_count": null,
      "outputs": [
        {
          "output_type": "execute_result",
          "data": {
            "text/plain": [
              "False"
            ]
          },
          "metadata": {},
          "execution_count": 61
        }
      ]
    },
    {
      "cell_type": "code",
      "source": [
        "s = \"name_age\"\n",
        "s.isidentifier()"
      ],
      "metadata": {
        "colab": {
          "base_uri": "https://localhost:8080/"
        },
        "id": "NqUEYwnUZHGd",
        "outputId": "4d754d5d-3eff-42f2-8e02-c651aa164abc"
      },
      "execution_count": null,
      "outputs": [
        {
          "output_type": "execute_result",
          "data": {
            "text/plain": [
              "True"
            ]
          },
          "metadata": {},
          "execution_count": 64
        }
      ]
    },
    {
      "cell_type": "code",
      "source": [
        "s = \"My Name is Nabaranjan\"\n",
        "\n",
        "s.split()"
      ],
      "metadata": {
        "colab": {
          "base_uri": "https://localhost:8080/"
        },
        "id": "KE94s7j1ZWr8",
        "outputId": "a7d694a8-156b-4c05-c843-9add9e131edf"
      },
      "execution_count": null,
      "outputs": [
        {
          "output_type": "execute_result",
          "data": {
            "text/plain": [
              "['My', 'Name', 'is', 'Nabaranjan']"
            ]
          },
          "metadata": {},
          "execution_count": 65
        }
      ]
    },
    {
      "cell_type": "code",
      "source": [
        "s = \"My@name@is@Nabaranjan\"\n",
        "s.split(\"@\")"
      ],
      "metadata": {
        "colab": {
          "base_uri": "https://localhost:8080/"
        },
        "id": "w8rwuEgBZ3K_",
        "outputId": "ea266fac-ff8f-44a8-bf44-57d59ad11274"
      },
      "execution_count": null,
      "outputs": [
        {
          "output_type": "execute_result",
          "data": {
            "text/plain": [
              "['My', 'name', 'is', 'Nabaranjan']"
            ]
          },
          "metadata": {},
          "execution_count": 67
        }
      ]
    },
    {
      "cell_type": "code",
      "source": [
        "s = (\"My name is Nabaranjan\")\n",
        "\n",
        "s.replace(\"Nabaranjan\", \"Halpatrik\")\n"
      ],
      "metadata": {
        "colab": {
          "base_uri": "https://localhost:8080/",
          "height": 35
        },
        "id": "fEw09u3-Z4gI",
        "outputId": "394903ab-67fa-40a4-c837-bdd8c6a6251e"
      },
      "execution_count": null,
      "outputs": [
        {
          "output_type": "execute_result",
          "data": {
            "text/plain": [
              "'My name is Halpatrik'"
            ],
            "application/vnd.google.colaboratory.intrinsic+json": {
              "type": "string"
            }
          },
          "metadata": {},
          "execution_count": 68
        }
      ]
    },
    {
      "cell_type": "code",
      "source": [
        "s = (\"My name is Nabaranjan\")\n",
        "\n",
        "s = s.strip()\n",
        "\n",
        "print(s)\n",
        "\n"
      ],
      "metadata": {
        "colab": {
          "base_uri": "https://localhost:8080/"
        },
        "id": "pJr6CdeftqnH",
        "outputId": "7557b69f-91a0-4ff1-f4e9-3b87f7db26d0"
      },
      "execution_count": null,
      "outputs": [
        {
          "output_type": "stream",
          "name": "stdout",
          "text": [
            "My name is Nabaranjan\n"
          ]
        }
      ]
    },
    {
      "cell_type": "markdown",
      "source": [
        "#F-Strings in Python"
      ],
      "metadata": {
        "id": "yF_VLq2DrdDM"
      }
    },
    {
      "cell_type": "code",
      "source": [
        "s = \"My name is {}. I am a {}\"\n",
        "\n",
        "name = \"Nabaranjan\"\n",
        "gender = \"Male\"\n",
        "\n",
        "s.format(name, gender)"
      ],
      "metadata": {
        "colab": {
          "base_uri": "https://localhost:8080/",
          "height": 35
        },
        "id": "J9-5_F0LrifZ",
        "outputId": "e3b0a65c-3eff-402e-d813-3c0d842cdd7c"
      },
      "execution_count": null,
      "outputs": [
        {
          "output_type": "execute_result",
          "data": {
            "text/plain": [
              "'My name is Nabaranjan. I am a Male'"
            ],
            "application/vnd.google.colaboratory.intrinsic+json": {
              "type": "string"
            }
          },
          "metadata": {},
          "execution_count": 1
        }
      ]
    },
    {
      "cell_type": "markdown",
      "source": [
        "\n",
        "\n",
        "\n",
        "*   Find the length of a given string without using the len() function.\n",
        "*   Extract username from a given email\n",
        "\n",
        "\n",
        "\n",
        "\n"
      ],
      "metadata": {
        "id": "hZrSDVJ1FKne"
      }
    },
    {
      "cell_type": "code",
      "source": [
        "s = input(\"Enter a sring: \")\n",
        "for i in s:\n",
        "  print(i)"
      ],
      "metadata": {
        "id": "laJK52hVFDtu",
        "colab": {
          "base_uri": "https://localhost:8080/"
        },
        "outputId": "32b79639-bae8-4a62-8317-b394b65c489c"
      },
      "execution_count": 5,
      "outputs": [
        {
          "output_type": "stream",
          "name": "stdout",
          "text": [
            "Enter a sring: Nabaranjan\n",
            "N\n",
            "a\n",
            "b\n",
            "a\n",
            "r\n",
            "a\n",
            "n\n",
            "j\n",
            "a\n",
            "n\n"
          ]
        }
      ]
    },
    {
      "cell_type": "code",
      "source": [
        "s = input(\"Enter a sring: \")\n",
        "\n",
        "counter = 0\n",
        "\n",
        "for i in s:\n",
        "  counter += 1\n",
        "  print(f\"You entered {s}. The length of the string is {counter}\")"
      ],
      "metadata": {
        "colab": {
          "base_uri": "https://localhost:8080/"
        },
        "id": "0Z7dXnwZnIJ-",
        "outputId": "bd1df5d8-be7d-469f-9fa4-4ab6ccc96e65"
      },
      "execution_count": 3,
      "outputs": [
        {
          "output_type": "stream",
          "name": "stdout",
          "text": [
            "Enter a sring: Nabaranjan\n",
            "You entered Nabaranjan. The length of the string is 1\n",
            "You entered Nabaranjan. The length of the string is 2\n",
            "You entered Nabaranjan. The length of the string is 3\n",
            "You entered Nabaranjan. The length of the string is 4\n",
            "You entered Nabaranjan. The length of the string is 5\n",
            "You entered Nabaranjan. The length of the string is 6\n",
            "You entered Nabaranjan. The length of the string is 7\n",
            "You entered Nabaranjan. The length of the string is 8\n",
            "You entered Nabaranjan. The length of the string is 9\n",
            "You entered Nabaranjan. The length of the string is 10\n"
          ]
        }
      ]
    },
    {
      "cell_type": "code",
      "source": [
        "email = input(\"Enter your email address:\")\n",
        "pos = email.index(\"@\")\n",
        "\n",
        "print(email)\n",
        "print(pos)"
      ],
      "metadata": {
        "colab": {
          "base_uri": "https://localhost:8080/"
        },
        "id": "tZ7_uLHFE9Ac",
        "outputId": "be718c2b-7b59-4c59-a21d-43ef1882a380"
      },
      "execution_count": 7,
      "outputs": [
        {
          "output_type": "stream",
          "name": "stdout",
          "text": [
            "Enter your email address:oddotech5@gmail,com\n",
            "oddotech5@gmail,com\n",
            "9\n"
          ]
        }
      ]
    },
    {
      "cell_type": "code",
      "source": [
        "email = input(\"Enter your email address:\")\n",
        "pos = email.index(\"@\")\n",
        "\n",
        "print(s[0:pos])\n"
      ],
      "metadata": {
        "colab": {
          "base_uri": "https://localhost:8080/"
        },
        "id": "p0sIhtG3Fqa8",
        "outputId": "46ca3756-bc68-4a76-a91c-aa74455f4edb"
      },
      "execution_count": 9,
      "outputs": [
        {
          "output_type": "stream",
          "name": "stdout",
          "text": [
            "Enter your email address:oddotech5@gmail.com\n",
            "Nabaranja\n"
          ]
        }
      ]
    },
    {
      "cell_type": "code",
      "source": [
        "word = input(\"Enter your word:\")\n",
        "\n",
        "flag = True\n",
        "\n",
        "for i in range(0, len(word)//2):\n",
        "  if word[i] != word[len(word)-i -1]:\n",
        "    flag = False\n",
        "    print(\"Not a Palindrome\")\n",
        "    break\n",
        "\n",
        "if flag:\n",
        "  print(\"Palindrome\")"
      ],
      "metadata": {
        "colab": {
          "base_uri": "https://localhost:8080/"
        },
        "id": "Xj6XDQUjWbnQ",
        "outputId": "446a9ffb-d100-4c36-d73d-2cd996434f5b"
      },
      "execution_count": 10,
      "outputs": [
        {
          "output_type": "stream",
          "name": "stdout",
          "text": [
            "Enter your word:naba\n",
            "Not a Palindrome\n"
          ]
        }
      ]
    },
    {
      "cell_type": "code",
      "source": [],
      "metadata": {
        "id": "upiRu3MTZPZq"
      },
      "execution_count": null,
      "outputs": []
    }
  ]
}
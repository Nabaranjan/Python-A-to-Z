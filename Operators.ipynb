{
  "nbformat": 4,
  "nbformat_minor": 0,
  "metadata": {
    "colab": {
      "provenance": [],
      "authorship_tag": "ABX9TyP2D4tWHlDuLezaFfyZ4gRr",
      "include_colab_link": true
    },
    "kernelspec": {
      "name": "python3",
      "display_name": "Python 3"
    },
    "language_info": {
      "name": "python"
    }
  },
  "cells": [
    {
      "cell_type": "markdown",
      "metadata": {
        "id": "view-in-github",
        "colab_type": "text"
      },
      "source": [
        "<a href=\"https://colab.research.google.com/github/Nabaranjan/Python-A-to-Z/blob/main/Operators.ipynb\" target=\"_parent\"><img src=\"https://colab.research.google.com/assets/colab-badge.svg\" alt=\"Open In Colab\"/></a>"
      ]
    },
    {
      "cell_type": "markdown",
      "source": [
        "#Operators\n",
        "\n",
        "\n",
        "\n",
        "1.   Arithmetic Operators\n",
        "2.   Relational Operators\n",
        "1.   Logical Operators\n",
        "2.   Bitwise Operators\n",
        "1.   Assignment Operators\n",
        "2.   Membership Operators\n",
        "\n",
        "\n",
        "\n",
        "\n",
        "\n"
      ],
      "metadata": {
        "id": "tBqK53XH040Q"
      }
    },
    {
      "cell_type": "code",
      "execution_count": null,
      "metadata": {
        "colab": {
          "base_uri": "https://localhost:8080/"
        },
        "id": "EkpbtNZFfkHb",
        "outputId": "c677376c-fd10-4aa3-9d58-ce839ae6f681"
      },
      "outputs": [
        {
          "output_type": "stream",
          "name": "stdout",
          "text": [
            "21\n"
          ]
        }
      ],
      "source": [
        "#Arithmetic Operators\n",
        "print(10+11)"
      ]
    },
    {
      "cell_type": "code",
      "source": [
        "print(10-1)"
      ],
      "metadata": {
        "colab": {
          "base_uri": "https://localhost:8080/"
        },
        "id": "M7_en_mz2vdx",
        "outputId": "9254efe2-86cc-4df5-a7b5-55fc5bf89685"
      },
      "execution_count": null,
      "outputs": [
        {
          "output_type": "stream",
          "name": "stdout",
          "text": [
            "9\n"
          ]
        }
      ]
    },
    {
      "cell_type": "code",
      "source": [
        "print(2*3)"
      ],
      "metadata": {
        "colab": {
          "base_uri": "https://localhost:8080/"
        },
        "id": "-9RY7rVE2zA6",
        "outputId": "b3257d05-796c-4763-fe3e-2fc10998a50b"
      },
      "execution_count": null,
      "outputs": [
        {
          "output_type": "stream",
          "name": "stdout",
          "text": [
            "6\n"
          ]
        }
      ]
    },
    {
      "cell_type": "code",
      "source": [
        "print(10/2)"
      ],
      "metadata": {
        "colab": {
          "base_uri": "https://localhost:8080/"
        },
        "id": "0nxaw9hx26Gs",
        "outputId": "9e8ecd3e-e350-4600-9a31-2748a26a6503"
      },
      "execution_count": null,
      "outputs": [
        {
          "output_type": "stream",
          "name": "stdout",
          "text": [
            "5.0\n"
          ]
        }
      ]
    },
    {
      "cell_type": "code",
      "source": [
        "print(6//2)"
      ],
      "metadata": {
        "colab": {
          "base_uri": "https://localhost:8080/"
        },
        "id": "MP41QOCX9n8k",
        "outputId": "0aaf8a60-b6b3-4857-ba49-6d6dd117fb25"
      },
      "execution_count": null,
      "outputs": [
        {
          "output_type": "stream",
          "name": "stdout",
          "text": [
            "3\n"
          ]
        }
      ]
    },
    {
      "cell_type": "code",
      "source": [
        "print(4%2)"
      ],
      "metadata": {
        "colab": {
          "base_uri": "https://localhost:8080/"
        },
        "id": "ubj6xNCF9ty6",
        "outputId": "0d2d6b58-b39d-4c45-a8a0-0eba6912d488"
      },
      "execution_count": null,
      "outputs": [
        {
          "output_type": "stream",
          "name": "stdout",
          "text": [
            "0\n"
          ]
        }
      ]
    },
    {
      "cell_type": "code",
      "source": [
        "print(3**2)"
      ],
      "metadata": {
        "colab": {
          "base_uri": "https://localhost:8080/"
        },
        "id": "J1A7km3094mG",
        "outputId": "a9b9f6d7-27fa-4c91-94ea-3afb756ee20e"
      },
      "execution_count": null,
      "outputs": [
        {
          "output_type": "stream",
          "name": "stdout",
          "text": [
            "9\n"
          ]
        }
      ]
    },
    {
      "cell_type": "markdown",
      "source": [
        "#Relational Operators"
      ],
      "metadata": {
        "id": "ro2fuQaHJtwO"
      }
    },
    {
      "cell_type": "code",
      "source": [
        "print(6>7)"
      ],
      "metadata": {
        "colab": {
          "base_uri": "https://localhost:8080/"
        },
        "id": "Le0bwPYZJh7n",
        "outputId": "548d4b77-fdc0-4395-da5b-a0fa747e4b17"
      },
      "execution_count": 1,
      "outputs": [
        {
          "output_type": "stream",
          "name": "stdout",
          "text": [
            "False\n"
          ]
        }
      ]
    },
    {
      "cell_type": "code",
      "source": [
        "print(6<7)"
      ],
      "metadata": {
        "colab": {
          "base_uri": "https://localhost:8080/"
        },
        "id": "D6asL1hyJ2nT",
        "outputId": "e623c9a4-4bb7-4e3f-8503-f8892b5aa5e8"
      },
      "execution_count": 2,
      "outputs": [
        {
          "output_type": "stream",
          "name": "stdout",
          "text": [
            "True\n"
          ]
        }
      ]
    },
    {
      "cell_type": "code",
      "source": [
        "print(5>=5)"
      ],
      "metadata": {
        "colab": {
          "base_uri": "https://localhost:8080/"
        },
        "id": "mQ8vpJSkJ7F1",
        "outputId": "1d216dac-601b-47d7-8bae-3aeab06970be"
      },
      "execution_count": 3,
      "outputs": [
        {
          "output_type": "stream",
          "name": "stdout",
          "text": [
            "True\n"
          ]
        }
      ]
    },
    {
      "cell_type": "code",
      "source": [
        "print(5<=5)"
      ],
      "metadata": {
        "colab": {
          "base_uri": "https://localhost:8080/"
        },
        "id": "QhY4XpwDKB08",
        "outputId": "337af3fb-a4d3-489f-99f2-bc7a928f7c8e"
      },
      "execution_count": 4,
      "outputs": [
        {
          "output_type": "stream",
          "name": "stdout",
          "text": [
            "True\n"
          ]
        }
      ]
    },
    {
      "cell_type": "code",
      "source": [
        "print(5==5)"
      ],
      "metadata": {
        "colab": {
          "base_uri": "https://localhost:8080/"
        },
        "id": "GOS7yHw1KGnB",
        "outputId": "42e29e96-7d0f-4822-b64c-7e48112eaffb"
      },
      "execution_count": 6,
      "outputs": [
        {
          "output_type": "stream",
          "name": "stdout",
          "text": [
            "True\n"
          ]
        }
      ]
    },
    {
      "cell_type": "code",
      "source": [
        "print(5!=5)"
      ],
      "metadata": {
        "colab": {
          "base_uri": "https://localhost:8080/"
        },
        "id": "LV08Cb1uTvQJ",
        "outputId": "fd7f23c3-983e-4541-a70a-2b14f4a626d9"
      },
      "execution_count": 7,
      "outputs": [
        {
          "output_type": "stream",
          "name": "stdout",
          "text": [
            "False\n"
          ]
        }
      ]
    },
    {
      "cell_type": "markdown",
      "source": [
        "#Logical Operators"
      ],
      "metadata": {
        "id": "HkxWplY0T6Ra"
      }
    },
    {
      "cell_type": "code",
      "source": [
        "print(1 and 0)"
      ],
      "metadata": {
        "colab": {
          "base_uri": "https://localhost:8080/"
        },
        "id": "qaHJHanmT5Ms",
        "outputId": "16e6c9ec-beb7-4edc-b832-2d6e44cf8e33"
      },
      "execution_count": 8,
      "outputs": [
        {
          "output_type": "stream",
          "name": "stdout",
          "text": [
            "0\n"
          ]
        }
      ]
    },
    {
      "cell_type": "code",
      "source": [
        "print(1 or 0)"
      ],
      "metadata": {
        "colab": {
          "base_uri": "https://localhost:8080/"
        },
        "id": "QnvpnmPLUDaM",
        "outputId": "836d25a4-1e9b-4ea9-d2ec-4bddf3f552ec"
      },
      "execution_count": 9,
      "outputs": [
        {
          "output_type": "stream",
          "name": "stdout",
          "text": [
            "1\n"
          ]
        }
      ]
    },
    {
      "cell_type": "code",
      "source": [
        "print(not 1)"
      ],
      "metadata": {
        "colab": {
          "base_uri": "https://localhost:8080/"
        },
        "id": "IbEJmijAUmDn",
        "outputId": "645860e1-d3e9-4dc7-be48-90812c034e48"
      },
      "execution_count": 10,
      "outputs": [
        {
          "output_type": "stream",
          "name": "stdout",
          "text": [
            "False\n"
          ]
        }
      ]
    },
    {
      "cell_type": "markdown",
      "source": [
        "#Bitwise Operators\n"
      ],
      "metadata": {
        "id": "shbMcV8pVKL-"
      }
    },
    {
      "cell_type": "code",
      "source": [
        "#Bitwise and\n",
        "print(2 & 3)"
      ],
      "metadata": {
        "colab": {
          "base_uri": "https://localhost:8080/"
        },
        "id": "QjAoF9ZWVJJG",
        "outputId": "ecaca80a-2e03-4cc7-aedd-b5732063b7dc"
      },
      "execution_count": 11,
      "outputs": [
        {
          "output_type": "stream",
          "name": "stdout",
          "text": [
            "2\n"
          ]
        }
      ]
    },
    {
      "cell_type": "code",
      "source": [
        "#bitwise or\n",
        "print(2 | 3)"
      ],
      "metadata": {
        "colab": {
          "base_uri": "https://localhost:8080/"
        },
        "id": "Xo761UygVoW8",
        "outputId": "db777579-8e94-468f-d119-a2b5b1856c1a"
      },
      "execution_count": 12,
      "outputs": [
        {
          "output_type": "stream",
          "name": "stdout",
          "text": [
            "3\n"
          ]
        }
      ]
    },
    {
      "cell_type": "code",
      "source": [
        "#bitwise xor\n",
        "print(2 ^ 3)"
      ],
      "metadata": {
        "colab": {
          "base_uri": "https://localhost:8080/"
        },
        "id": "SxrY5RdvV7c9",
        "outputId": "d89f2a07-d81b-4531-f378-d030fce6bf70"
      },
      "execution_count": 13,
      "outputs": [
        {
          "output_type": "stream",
          "name": "stdout",
          "text": [
            "1\n"
          ]
        }
      ]
    },
    {
      "cell_type": "code",
      "source": [
        "#bitwise not\n",
        "print(~3)"
      ],
      "metadata": {
        "colab": {
          "base_uri": "https://localhost:8080/"
        },
        "id": "5aV-3UCsWG7B",
        "outputId": "3fee45f5-bd5a-4476-ea7c-6e6a87ca4ef9"
      },
      "execution_count": 14,
      "outputs": [
        {
          "output_type": "stream",
          "name": "stdout",
          "text": [
            "-4\n"
          ]
        }
      ]
    },
    {
      "cell_type": "code",
      "source": [
        "#right shift\n",
        "print(4 >> 2)"
      ],
      "metadata": {
        "colab": {
          "base_uri": "https://localhost:8080/"
        },
        "id": "c-4kUfynWcTe",
        "outputId": "4f217439-0c07-4f53-b79c-3b3383635e6e"
      },
      "execution_count": 15,
      "outputs": [
        {
          "output_type": "stream",
          "name": "stdout",
          "text": [
            "1\n"
          ]
        }
      ]
    },
    {
      "cell_type": "code",
      "source": [
        "#Left shift\n",
        "print(5 << 2)"
      ],
      "metadata": {
        "colab": {
          "base_uri": "https://localhost:8080/"
        },
        "id": "WHPPtQidWjMq",
        "outputId": "7f2df7d5-c873-4181-cf51-ab88c7892ca3"
      },
      "execution_count": 16,
      "outputs": [
        {
          "output_type": "stream",
          "name": "stdout",
          "text": [
            "20\n"
          ]
        }
      ]
    },
    {
      "cell_type": "markdown",
      "source": [
        "#Assignment Operators"
      ],
      "metadata": {
        "id": "Ova5tqulXA_R"
      }
    },
    {
      "cell_type": "code",
      "source": [
        "a = 2\n",
        "a += 1\n",
        "print(a)"
      ],
      "metadata": {
        "colab": {
          "base_uri": "https://localhost:8080/"
        },
        "id": "e871gqWUXAkD",
        "outputId": "60b9bdbe-f4f5-481e-8043-a918ecec607b"
      },
      "execution_count": 17,
      "outputs": [
        {
          "output_type": "stream",
          "name": "stdout",
          "text": [
            "3\n"
          ]
        }
      ]
    },
    {
      "cell_type": "markdown",
      "source": [
        "#Membership Operators"
      ],
      "metadata": {
        "id": "ayrnZpEEXinD"
      }
    },
    {
      "cell_type": "code",
      "source": [
        "# in /not in\n",
        "print('P' in 'Parichhal')"
      ],
      "metadata": {
        "colab": {
          "base_uri": "https://localhost:8080/"
        },
        "id": "_jVO5-sOXRnH",
        "outputId": "bd75aca2-a269-4e45-8f7c-f7685363e0fa"
      },
      "execution_count": 18,
      "outputs": [
        {
          "output_type": "stream",
          "name": "stdout",
          "text": [
            "True\n"
          ]
        }
      ]
    },
    {
      "cell_type": "code",
      "source": [
        "print('P' not in 'Parichhal')"
      ],
      "metadata": {
        "colab": {
          "base_uri": "https://localhost:8080/"
        },
        "id": "xjdMWPPiX3xA",
        "outputId": "39316b27-0f45-48b2-fa46-c7f395bdb20c"
      },
      "execution_count": 19,
      "outputs": [
        {
          "output_type": "stream",
          "name": "stdout",
          "text": [
            "False\n"
          ]
        }
      ]
    },
    {
      "cell_type": "markdown",
      "source": [
        "#Exercise\n",
        "\n",
        "Find the sum of a 3 digit number entered by the user"
      ],
      "metadata": {
        "id": "zuI8KauSYoQ8"
      }
    },
    {
      "cell_type": "code",
      "source": [
        "number = int(input(\"Enter 3 numbers to perform sum: \"))\n",
        "\n",
        "# 345%10 = 5\n",
        "a = number%10\n",
        "\n",
        "#345//10 = 34\n",
        "number = number//10\n",
        "#34%10 = 4\n",
        "b = number%10\n",
        "\n",
        "number = number//10\n",
        "#3%10 = 3\n",
        "c = number%10\n",
        "\n",
        "result = a + b + c\n",
        "print(result)\n"
      ],
      "metadata": {
        "colab": {
          "base_uri": "https://localhost:8080/"
        },
        "id": "pkL-IIBnYrrv",
        "outputId": "629fba1f-4e59-4f68-f6d2-6408789bdde3"
      },
      "execution_count": 25,
      "outputs": [
        {
          "output_type": "stream",
          "name": "stdout",
          "text": [
            "Enter 3 numbers to perform sum: 777\n",
            "21\n"
          ]
        }
      ]
    }
  ]
}
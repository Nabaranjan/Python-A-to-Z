{
  "nbformat": 4,
  "nbformat_minor": 0,
  "metadata": {
    "colab": {
      "provenance": [],
      "authorship_tag": "ABX9TyN3STgLgZcUM+uwGuzQeo/P",
      "include_colab_link": true
    },
    "kernelspec": {
      "name": "python3",
      "display_name": "Python 3"
    },
    "language_info": {
      "name": "python"
    }
  },
  "cells": [
    {
      "cell_type": "markdown",
      "metadata": {
        "id": "view-in-github",
        "colab_type": "text"
      },
      "source": [
        "<a href=\"https://colab.research.google.com/github/Nabaranjan/Python-A-to-Z/blob/main/Loop_Control_Statement.ipynb\" target=\"_parent\"><img src=\"https://colab.research.google.com/assets/colab-badge.svg\" alt=\"Open In Colab\"/></a>"
      ]
    },
    {
      "cell_type": "markdown",
      "source": [
        "\n",
        "\n",
        "\n",
        "*   Break\n",
        "*   Continue\n",
        "*   Pass\n",
        "\n",
        "\n",
        "\n",
        "\n",
        "\n"
      ],
      "metadata": {
        "id": "R_aYEIsWvYjT"
      }
    },
    {
      "cell_type": "code",
      "source": [
        "#break\n",
        "\n",
        "for i in range(1,11):\n",
        "  if i == 5:\n",
        "    break\n",
        "    print(i)"
      ],
      "metadata": {
        "id": "rHmqALymvo8N"
      },
      "execution_count": 4,
      "outputs": []
    },
    {
      "cell_type": "code",
      "source": [
        "name = [\"Nabaranjan\",\"Guddy\",\"Ram\",\"Sam\"]\n",
        "for i in name:\n",
        "  if i == \"Nabaranjan\":\n",
        "    print(i)\n",
        "    break\n",
        "    print(i)"
      ],
      "metadata": {
        "colab": {
          "base_uri": "https://localhost:8080/"
        },
        "id": "bEn560b_wxg0",
        "outputId": "b7198b6d-99a6-47d6-f8ed-854deed2d118"
      },
      "execution_count": 5,
      "outputs": [
        {
          "output_type": "stream",
          "name": "stdout",
          "text": [
            "Nabaranjan\n"
          ]
        }
      ]
    },
    {
      "cell_type": "code",
      "source": [
        "# Find prime number in a range\n",
        "\n",
        "lower = int(input(\"Enter Lower Range:\"))\n",
        "upper = int(input(\"Enter Upper Range:\"))\n",
        "\n",
        "for i in range(lower,upper+1):\n",
        "  for j in range(2,i):\n",
        "    if i%j == 0:\n",
        "      break\n",
        "\n",
        "else:\n",
        "  print(i)\n",
        ""
      ],
      "metadata": {
        "colab": {
          "base_uri": "https://localhost:8080/"
        },
        "id": "Hj3bS4J5yGX3",
        "outputId": "4d4d217b-484c-4783-ab98-5c485e0374cd"
      },
      "execution_count": 9,
      "outputs": [
        {
          "output_type": "stream",
          "name": "stdout",
          "text": [
            "Enter Lower Range:1\n",
            "Enter Upper Range:2\n",
            "2\n"
          ]
        }
      ]
    },
    {
      "cell_type": "code",
      "source": [
        "# continue\n",
        "\n",
        "for i in range(1,10):\n",
        "  if i == 5:\n",
        "    continue\n",
        "    print(i)"
      ],
      "metadata": {
        "id": "I7-l2N6-y6fK"
      },
      "execution_count": 12,
      "outputs": []
    },
    {
      "cell_type": "code",
      "source": [
        "#pass\n",
        "\n",
        "for i in range(1,10):\n",
        "  pass"
      ],
      "metadata": {
        "id": "jRXFwVMRz_LF"
      },
      "execution_count": 14,
      "outputs": []
    }
  ]
}
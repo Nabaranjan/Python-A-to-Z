{
  "nbformat": 4,
  "nbformat_minor": 0,
  "metadata": {
    "colab": {
      "provenance": [],
      "authorship_tag": "ABX9TyMizq9VC+ptD6d9RXB6Fzch",
      "include_colab_link": true
    },
    "kernelspec": {
      "name": "python3",
      "display_name": "Python 3"
    },
    "language_info": {
      "name": "python"
    }
  },
  "cells": [
    {
      "cell_type": "markdown",
      "metadata": {
        "id": "view-in-github",
        "colab_type": "text"
      },
      "source": [
        "<a href=\"https://colab.research.google.com/github/Nabaranjan/Python-A-to-Z/blob/main/File_Handling.ipynb\" target=\"_parent\"><img src=\"https://colab.research.google.com/assets/colab-badge.svg\" alt=\"Open In Colab\"/></a>"
      ]
    },
    {
      "cell_type": "code",
      "execution_count": 4,
      "metadata": {
        "id": "vn2_6egSQvPV"
      },
      "outputs": [],
      "source": [
        "# Writing to a file\n",
        "\n",
        "f = open(\"File/sample.txt\", \"w\")\n",
        "f.write(\"Hello Python\")\n",
        "f.close()\n",
        "\n",
        "#f.write(\"Hello\")"
      ]
    },
    {
      "cell_type": "code",
      "source": [
        "# Write Multiline strings\n",
        "\n",
        "f = open('sample1.txt','w')\n",
        "f.write('hello world')\n",
        "f.write('\\nhow are you?')\n",
        "f.close()"
      ],
      "metadata": {
        "id": "K7VY2nOJikgY"
      },
      "execution_count": 5,
      "outputs": []
    },
    {
      "cell_type": "code",
      "source": [
        "# append mode\n",
        "f = open('File/sample.txt','a')\n",
        "f.write('\\nI am fine')\n",
        "f.close()"
      ],
      "metadata": {
        "id": "CGE6R8Jnjk3v"
      },
      "execution_count": 6,
      "outputs": []
    },
    {
      "cell_type": "code",
      "source": [
        "# write lines\n",
        "\n",
        "L = ['hello\\n','hi\\n','how are you\\n','I am fine']\n",
        "\n",
        "f = open('File/sample.txt','w')\n",
        "f.writelines(L)\n",
        "f.close()"
      ],
      "metadata": {
        "id": "4PuE3hY-kNAq"
      },
      "execution_count": 8,
      "outputs": []
    },
    {
      "cell_type": "code",
      "source": [
        "# reading from files\n",
        "\n",
        "f = open('File/sample.txt','r')\n",
        "s = f.read()\n",
        "print(s)\n",
        "f.close()"
      ],
      "metadata": {
        "colab": {
          "base_uri": "https://localhost:8080/"
        },
        "id": "vBA_7KUFlBYF",
        "outputId": "862f5076-3d97-490d-f474-7a60b43efc96"
      },
      "execution_count": 9,
      "outputs": [
        {
          "output_type": "stream",
          "name": "stdout",
          "text": [
            "hello\n",
            "hi\n",
            "how are you\n",
            "I am fine\n"
          ]
        }
      ]
    },
    {
      "cell_type": "code",
      "source": [
        "# reading upto n chars\n",
        "\n",
        "f = open('File/sample.txt','r')\n",
        "s = f.read(10)\n",
        "print(s)\n",
        "f.close()"
      ],
      "metadata": {
        "colab": {
          "base_uri": "https://localhost:8080/"
        },
        "id": "K9L2loB2l9S6",
        "outputId": "40574464-8127-4b35-a451-d767644dfbd1"
      },
      "execution_count": 10,
      "outputs": [
        {
          "output_type": "stream",
          "name": "stdout",
          "text": [
            "hello\n",
            "hi\n",
            "h\n"
          ]
        }
      ]
    },
    {
      "cell_type": "code",
      "source": [
        "f = open('File/sample.txt','r')\n",
        "\n",
        "while True:\n",
        "  data = f.readline()\n",
        "\n",
        "  if data ==\"\":\n",
        "    break\n",
        "  else:\n",
        "    print(data, end='')\n",
        "f.close()"
      ],
      "metadata": {
        "colab": {
          "base_uri": "https://localhost:8080/"
        },
        "id": "5_JLYbgopoZ6",
        "outputId": "00e86e29-0bd4-411e-d6a0-c479186e8336"
      },
      "execution_count": 11,
      "outputs": [
        {
          "output_type": "stream",
          "name": "stdout",
          "text": [
            "hello\n",
            "hi\n",
            "how are you\n",
            "I am fine"
          ]
        }
      ]
    },
    {
      "cell_type": "code",
      "source": [
        "with open(\"File/sample.txt\", \"w\") as f:\n",
        "  f.write(\"Hello there!\")"
      ],
      "metadata": {
        "id": "SzX4u_s6q6jl"
      },
      "execution_count": 12,
      "outputs": []
    },
    {
      "cell_type": "code",
      "source": [
        "f.write(\"Nabaranjan\")"
      ],
      "metadata": {
        "colab": {
          "base_uri": "https://localhost:8080/",
          "height": 141
        },
        "id": "Ao0f-d8XrPCz",
        "outputId": "1f82516e-977a-4c7e-e25c-09b73e0981b0"
      },
      "execution_count": 13,
      "outputs": [
        {
          "output_type": "error",
          "ename": "ValueError",
          "evalue": "I/O operation on closed file.",
          "traceback": [
            "\u001b[0;31m---------------------------------------------------------------------------\u001b[0m",
            "\u001b[0;31mValueError\u001b[0m                                Traceback (most recent call last)",
            "\u001b[0;32m<ipython-input-13-ce1e09c9e0bd>\u001b[0m in \u001b[0;36m<cell line: 1>\u001b[0;34m()\u001b[0m\n\u001b[0;32m----> 1\u001b[0;31m \u001b[0mf\u001b[0m\u001b[0;34m.\u001b[0m\u001b[0mwrite\u001b[0m\u001b[0;34m(\u001b[0m\u001b[0;34m\"Nabaranjan\"\u001b[0m\u001b[0;34m)\u001b[0m\u001b[0;34m\u001b[0m\u001b[0;34m\u001b[0m\u001b[0m\n\u001b[0m",
            "\u001b[0;31mValueError\u001b[0m: I/O operation on closed file."
          ]
        }
      ]
    },
    {
      "cell_type": "code",
      "source": [
        "\n",
        "with open(\"File/sample.txt\", \"r\") as f:\n",
        "  s = f.read()\n",
        "  print(s)"
      ],
      "metadata": {
        "colab": {
          "base_uri": "https://localhost:8080/"
        },
        "id": "wen1j-2zruCD",
        "outputId": "b766fe11-4d2f-4d35-93e2-304a2f398063"
      },
      "execution_count": 15,
      "outputs": [
        {
          "output_type": "stream",
          "name": "stdout",
          "text": [
            "Hello there!\n"
          ]
        }
      ]
    },
    {
      "cell_type": "code",
      "source": [
        "# readline()\n",
        "\n",
        "with open(\"File/sample.txt\", \"r\") as f:\n",
        "  s = f.readline()\n",
        "  print(s)"
      ],
      "metadata": {
        "colab": {
          "base_uri": "https://localhost:8080/"
        },
        "id": "oCjYMAbBsFgR",
        "outputId": "4b308450-1684-42db-ca64-d746a2eab254"
      },
      "execution_count": 16,
      "outputs": [
        {
          "output_type": "stream",
          "name": "stdout",
          "text": [
            "Hello there!\n"
          ]
        }
      ]
    },
    {
      "cell_type": "code",
      "source": [
        "# append mode\n",
        "\n",
        "\n",
        "with open(\"File/sample.txt\", \"a\") as f:\n",
        "  s = f.write(\"\\\\My name is Nabaranjan\")\n",
        "  print(s)"
      ],
      "metadata": {
        "colab": {
          "base_uri": "https://localhost:8080/"
        },
        "id": "ayK-Vw7zsWYx",
        "outputId": "703f3ab4-0735-4da8-b9ad-4f394e1a158b"
      },
      "execution_count": 18,
      "outputs": [
        {
          "output_type": "stream",
          "name": "stdout",
          "text": [
            "22\n"
          ]
        }
      ]
    },
    {
      "cell_type": "code",
      "source": [
        "#serialization using json module\n",
        "#list\n",
        "\n",
        "import json\n",
        "\n",
        "L = [1,2,3,4,5,6,7,8]\n",
        "\n",
        "with open(\"File/test.json\", 'w') as f:\n",
        "  json.dump(L,f)\n"
      ],
      "metadata": {
        "id": "ej-1w7iDtNuH"
      },
      "execution_count": 20,
      "outputs": []
    },
    {
      "cell_type": "code",
      "source": [
        "#pickle"
      ],
      "metadata": {
        "id": "rziQE7P67uZy"
      },
      "execution_count": null,
      "outputs": []
    }
  ]
}